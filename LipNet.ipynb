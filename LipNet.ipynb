{
 "cells": [
  {
   "cell_type": "markdown",
   "id": "b6df1471",
   "metadata": {},
   "source": [
    "## Install and Import Dependencies"
   ]
  },
  {
   "cell_type": "code",
   "execution_count": 1,
   "id": "5596e9df",
   "metadata": {},
   "outputs": [
    {
     "name": "stdout",
     "output_type": "stream",
     "text": [
      "Requirement already satisfied: imageio in c:\\users\\rajat\\anaconda3\\lib\\site-packages (2.19.3)\n",
      "Collecting gdown\n",
      "  Downloading gdown-4.7.1-py3-none-any.whl (15 kB)\n",
      "Requirement already satisfied: numpy in c:\\users\\rajat\\anaconda3\\lib\\site-packages (from imageio) (1.21.5)\n",
      "Requirement already satisfied: pillow>=8.3.2 in c:\\users\\rajat\\anaconda3\\lib\\site-packages (from imageio) (9.2.0)\n",
      "Requirement already satisfied: requests[socks] in c:\\users\\rajat\\anaconda3\\lib\\site-packages (from gdown) (2.28.1)\n",
      "Requirement already satisfied: six in c:\\users\\rajat\\anaconda3\\lib\\site-packages (from gdown) (1.16.0)\n",
      "Requirement already satisfied: filelock in c:\\users\\rajat\\anaconda3\\lib\\site-packages (from gdown) (3.6.0)\n",
      "Requirement already satisfied: tqdm in c:\\users\\rajat\\anaconda3\\lib\\site-packages (from gdown) (4.64.1)\n",
      "Requirement already satisfied: beautifulsoup4 in c:\\users\\rajat\\anaconda3\\lib\\site-packages (from gdown) (4.11.1)\n",
      "Requirement already satisfied: soupsieve>1.2 in c:\\users\\rajat\\anaconda3\\lib\\site-packages (from beautifulsoup4->gdown) (2.3.1)\n",
      "Requirement already satisfied: urllib3<1.27,>=1.21.1 in c:\\users\\rajat\\anaconda3\\lib\\site-packages (from requests[socks]->gdown) (1.26.11)\n",
      "Requirement already satisfied: certifi>=2017.4.17 in c:\\users\\rajat\\anaconda3\\lib\\site-packages (from requests[socks]->gdown) (2022.9.14)\n",
      "Requirement already satisfied: charset-normalizer<3,>=2 in c:\\users\\rajat\\anaconda3\\lib\\site-packages (from requests[socks]->gdown) (2.0.4)\n",
      "Requirement already satisfied: idna<4,>=2.5 in c:\\users\\rajat\\anaconda3\\lib\\site-packages (from requests[socks]->gdown) (3.3)\n",
      "Requirement already satisfied: PySocks!=1.5.7,>=1.5.6 in c:\\users\\rajat\\anaconda3\\lib\\site-packages (from requests[socks]->gdown) (1.7.1)\n",
      "Requirement already satisfied: colorama in c:\\users\\rajat\\anaconda3\\lib\\site-packages (from tqdm->gdown) (0.4.5)\n",
      "Installing collected packages: gdown\n",
      "Successfully installed gdown-4.7.1\n"
     ]
    }
   ],
   "source": [
    "!pip install imageio gdown"
   ]
  },
  {
   "cell_type": "code",
   "execution_count": 1,
   "id": "94a74d03",
   "metadata": {},
   "outputs": [],
   "source": [
    "import os\n",
    "import cv2\n",
    "import imageio\n",
    "import tensorflow as tf\n",
    "import numpy as np\n",
    "from typing import List\n",
    "from matplotlib import pyplot as plt"
   ]
  },
  {
   "cell_type": "code",
   "execution_count": 2,
   "id": "74835612",
   "metadata": {},
   "outputs": [
    {
     "name": "stdout",
     "output_type": "stream",
     "text": [
      "Completed\n"
     ]
    }
   ],
   "source": [
    "# Check for GPU\n",
    "physical_devices = tf.config.list_physical_devices('GPU')\n",
    "try:\n",
    "    tf.config.experimental.set_memory_growth(physical_devices[0], True)\n",
    "    print(\"Completed\")\n",
    "except:\n",
    "    pass"
   ]
  },
  {
   "cell_type": "markdown",
   "id": "1075daf4",
   "metadata": {},
   "source": [
    "## Building Data Loading Functions"
   ]
  },
  {
   "cell_type": "code",
   "execution_count": 3,
   "id": "bba9f3b6",
   "metadata": {},
   "outputs": [],
   "source": [
    "# import gdown"
   ]
  },
  {
   "cell_type": "code",
   "execution_count": 4,
   "id": "a40dbf7d",
   "metadata": {},
   "outputs": [],
   "source": [
    "# url = 'https://drive.google.com/uc?id=1YlvpDLix3S-U8fd-gqRwPcWXAXm8JwjL'\n",
    "# output = 'data.zip'\n",
    "# gdown.download(url, output, quiet=False)\n",
    "# gdown.extractall('data.zip')"
   ]
  },
  {
   "cell_type": "code",
   "execution_count": 5,
   "id": "f466de94",
   "metadata": {},
   "outputs": [],
   "source": [
    "@tf.function(jit_compile=True, reduce_retracing=True)\n",
    "def load_video(path:str) -> List[float]: \n",
    "    \n",
    "    cap = cv2.VideoCapture(path)\n",
    "    frames = []\n",
    "    for _ in range(int(cap.get(cv2.CAP_PROP_FRAME_COUNT))): \n",
    "        ret, frame = cap.read()\n",
    "        frame = tf.image.rgb_to_grayscale(frame)\n",
    "        frames.append(frame[190:236,80:220,:])\n",
    "    cap.release()\n",
    "    \n",
    "    mean = tf.math.reduce_mean(frames)\n",
    "    std = tf.math.reduce_std(tf.cast(frames, tf.float32))\n",
    "    return tf.cast((frames - mean), tf.float32) / std"
   ]
  },
  {
   "cell_type": "code",
   "execution_count": 6,
   "id": "669beea1",
   "metadata": {},
   "outputs": [],
   "source": [
    "vocab = [x for x in \"abcdefghijklmnopqrstuvwxyz'?!123456789 \"]"
   ]
  },
  {
   "cell_type": "code",
   "execution_count": 7,
   "id": "86033e72",
   "metadata": {},
   "outputs": [
    {
     "data": {
      "text/plain": [
       "['a',\n",
       " 'b',\n",
       " 'c',\n",
       " 'd',\n",
       " 'e',\n",
       " 'f',\n",
       " 'g',\n",
       " 'h',\n",
       " 'i',\n",
       " 'j',\n",
       " 'k',\n",
       " 'l',\n",
       " 'm',\n",
       " 'n',\n",
       " 'o',\n",
       " 'p',\n",
       " 'q',\n",
       " 'r',\n",
       " 's',\n",
       " 't',\n",
       " 'u',\n",
       " 'v',\n",
       " 'w',\n",
       " 'x',\n",
       " 'y',\n",
       " 'z',\n",
       " \"'\",\n",
       " '?',\n",
       " '!',\n",
       " '1',\n",
       " '2',\n",
       " '3',\n",
       " '4',\n",
       " '5',\n",
       " '6',\n",
       " '7',\n",
       " '8',\n",
       " '9',\n",
       " ' ']"
      ]
     },
     "execution_count": 7,
     "metadata": {},
     "output_type": "execute_result"
    }
   ],
   "source": [
    "vocab"
   ]
  },
  {
   "cell_type": "code",
   "execution_count": 8,
   "id": "9a1f9e6e",
   "metadata": {},
   "outputs": [
    {
     "name": "stdout",
     "output_type": "stream",
     "text": [
      "The vocabulary is: ['', 'a', 'b', 'c', 'd', 'e', 'f', 'g', 'h', 'i', 'j', 'k', 'l', 'm', 'n', 'o', 'p', 'q', 'r', 's', 't', 'u', 'v', 'w', 'x', 'y', 'z', \"'\", '?', '!', '1', '2', '3', '4', '5', '6', '7', '8', '9', ' ']\n",
      "size = 40\n"
     ]
    }
   ],
   "source": [
    "char_to_num = tf.keras.layers.StringLookup(vocabulary=vocab, oov_token=\"\")\n",
    "num_to_char = tf.keras.layers.StringLookup(\n",
    "    vocabulary=char_to_num.get_vocabulary(), oov_token=\"\", invert=True\n",
    ")\n",
    "\n",
    "print(f\"The vocabulary is: {char_to_num.get_vocabulary()}\")\n",
    "print(f\"size = {char_to_num.vocabulary_size()}\")"
   ]
  },
  {
   "cell_type": "code",
   "execution_count": 9,
   "id": "8cbb3403",
   "metadata": {},
   "outputs": [],
   "source": [
    "def load_alignments(path: str) -> List[str]:\n",
    "    with open(path, \"r\") as f:\n",
    "        lines = f.readlines()\n",
    "    tokens = []\n",
    "    for line in lines:\n",
    "        line = line.split()\n",
    "        if line[2] != 'sil':\n",
    "            tokens = [*tokens, ' ', line[2]]\n",
    "    return char_to_num(tf.reshape(tf.strings.unicode_split(tokens, input_encoding=\"UTF-8\"), (-1)))[1:]"
   ]
  },
  {
   "cell_type": "code",
   "execution_count": 10,
   "id": "8e9f1c17",
   "metadata": {},
   "outputs": [],
   "source": [
    "def load_data(path: str):\n",
    "    path = bytes.decode(path.numpy())\n",
    "    \n",
    "    file_name = path.split('\\\\')[-1].split('.')[0]\n",
    "    video_path = os.path.join('data', 's1', f'{file_name}.mpg')\n",
    "    alignment_path = os.path.join('data', 'alignments', 's1', f'{file_name}.align')\n",
    "    frames = load_video(video_path)\n",
    "    alignments = load_alignments(alignment_path)\n",
    "    \n",
    "    return frames, alignments"
   ]
  },
  {
   "cell_type": "code",
   "execution_count": 11,
   "id": "685c500a",
   "metadata": {},
   "outputs": [
    {
     "data": {
      "text/plain": [
       "'bbal6n'"
      ]
     },
     "execution_count": 11,
     "metadata": {},
     "output_type": "execute_result"
    }
   ],
   "source": [
    "test_path = '.\\\\data\\\\s1\\\\bbal6n.mpg'\n",
    "tf.convert_to_tensor(test_path).numpy().decode('utf-8').split('\\\\')[-1].split('.')[0]"
   ]
  },
  {
   "cell_type": "code",
   "execution_count": 12,
   "id": "2aa54b24",
   "metadata": {},
   "outputs": [],
   "source": [
    "frames, alignment = load_data(tf.convert_to_tensor(test_path))"
   ]
  },
  {
   "cell_type": "code",
   "execution_count": 13,
   "id": "faa93e43",
   "metadata": {},
   "outputs": [
    {
     "data": {
      "text/plain": [
       "<matplotlib.image.AxesImage at 0x16b13756c70>"
      ]
     },
     "execution_count": 13,
     "metadata": {},
     "output_type": "execute_result"
    },
    {
     "data": {
      "image/png": "[encoded data removed]",
      "text/plain": [
       "<Figure size 640x480 with 1 Axes>"
      ]
     },
     "metadata": {},
     "output_type": "display_data"
    }
   ],
   "source": [
    "plt.imshow(frames[0])"
   ]
  },
  {
   "cell_type": "code",
   "execution_count": 14,
   "id": "5fd1eb0e",
   "metadata": {},
   "outputs": [
    {
     "data": {
      "text/plain": [
       "<matplotlib.image.AxesImage at 0x16b13b594c0>"
      ]
     },
     "execution_count": 14,
     "metadata": {},
     "output_type": "execute_result"
    },
    {
     "data": {
      "image/png": "[encoded data removed]",
      "text/plain": [
       "<Figure size 640x480 with 1 Axes>"
      ]
     },
     "metadata": {},
     "output_type": "display_data"
    }
   ],
   "source": [
    "plt.imshow(frames[40])"
   ]
  },
  {
   "cell_type": "code",
   "execution_count": 15,
   "id": "f014624a",
   "metadata": {},
   "outputs": [
    {
     "data": {
      "text/plain": [
       "<tf.Tensor: shape=(21,), dtype=string, numpy=\n",
       "array([b'b', b'i', b'n', b' ', b'b', b'l', b'u', b'e', b' ', b'a', b't',\n",
       "       b' ', b'l', b' ', b's', b'i', b'x', b' ', b'n', b'o', b'w'],\n",
       "      dtype=object)>"
      ]
     },
     "execution_count": 15,
     "metadata": {},
     "output_type": "execute_result"
    }
   ],
   "source": [
    "num_to_char(alignment)"
   ]
  },
  {
   "cell_type": "code",
   "execution_count": 16,
   "id": "61f1774b",
   "metadata": {},
   "outputs": [
    {
     "data": {
      "text/plain": [
       "<tf.Tensor: shape=(), dtype=string, numpy=b'bin blue at l six now'>"
      ]
     },
     "execution_count": 16,
     "metadata": {},
     "output_type": "execute_result"
    }
   ],
   "source": [
    "tf.strings.reduce_join([bytes.decode(x) for x in num_to_char(alignment.numpy()).numpy()])"
   ]
  },
  {
   "cell_type": "code",
   "execution_count": 17,
   "id": "cc23c7f9",
   "metadata": {},
   "outputs": [],
   "source": [
    "def mappable_function(path: str) -> List[str]:\n",
    "    result = tf.py_function(load_data, [path], (tf.float32, tf.int64))\n",
    "    return result"
   ]
  },
  {
   "cell_type": "markdown",
   "id": "23d75cf9",
   "metadata": {},
   "source": [
    "## Creating a Data Pipeline"
   ]
  },
  {
   "cell_type": "code",
   "execution_count": 56,
   "id": "910d8068",
   "metadata": {},
   "outputs": [],
   "source": [
    "data = tf.data.Dataset.list_files('./data/s1/*.mpg')\n",
    "data = data.shuffle(500, reshuffle_each_iteration=False)\n",
    "data = data.map(mappable_function)\n",
    "data = data.padded_batch(2, padded_shapes=([75, None, None, None], [40]))\n",
    "data = data.prefetch(tf.data.AUTOTUNE)\n",
    "# added for split\n",
    "test = data.take(5)\n",
    "train = data.skip(5)"
   ]
  },
  {
   "cell_type": "code",
   "execution_count": 57,
   "id": "7b1d9ee1",
   "metadata": {},
   "outputs": [],
   "source": [
    "frames, alignment = data.as_numpy_iterator().next()"
   ]
  },
  {
   "cell_type": "code",
   "execution_count": 58,
   "id": "57a032b9",
   "metadata": {},
   "outputs": [
    {
     "data": {
      "text/plain": [
       "array([[ 2,  9, 14, 39, 23,  8,  9, 20,  5, 39, 23,  9, 20,  8, 39, 21,\n",
       "        39, 20,  8, 18,  5,  5, 39,  1,  7,  1,  9, 14,  0,  0,  0,  0,\n",
       "         0,  0,  0,  0,  0,  0,  0,  0],\n",
       "       [12,  1, 25, 39, 23,  8,  9, 20,  5, 39,  1, 20, 39,  6, 39, 26,\n",
       "         5, 18, 15, 39, 16, 12,  5,  1, 19,  5,  0,  0,  0,  0,  0,  0,\n",
       "         0,  0,  0,  0,  0,  0,  0,  0]], dtype=int64)"
      ]
     },
     "execution_count": 58,
     "metadata": {},
     "output_type": "execute_result"
    }
   ],
   "source": [
    "alignment"
   ]
  },
  {
   "cell_type": "code",
   "execution_count": 59,
   "id": "0599ab2a",
   "metadata": {},
   "outputs": [
    {
     "data": {
      "text/plain": [
       "2"
      ]
     },
     "execution_count": 59,
     "metadata": {},
     "output_type": "execute_result"
    }
   ],
   "source": [
    "len(frames)"
   ]
  },
  {
   "cell_type": "code",
   "execution_count": 60,
   "id": "b27d11b9",
   "metadata": {},
   "outputs": [],
   "source": [
    "train_data = train.as_numpy_iterator()"
   ]
  },
  {
   "cell_type": "code",
   "execution_count": 61,
   "id": "812945b3",
   "metadata": {},
   "outputs": [],
   "source": [
    "test_data = test.as_numpy_iterator()"
   ]
  },
  {
   "cell_type": "code",
   "execution_count": 62,
   "id": "4086519f",
   "metadata": {},
   "outputs": [
    {
     "data": {
      "text/plain": [
       "array([[[[[1.4466949 ],\n",
       "          [1.4466949 ],\n",
       "          [1.4466949 ],\n",
       "          ...,\n",
       "          [0.11128422],\n",
       "          [0.44513687],\n",
       "          [0.44513687]],\n",
       "\n",
       "         [[1.4466949 ],\n",
       "          [1.4466949 ],\n",
       "          [1.4466949 ],\n",
       "          ...,\n",
       "          [0.14837895],\n",
       "          [0.44513687],\n",
       "          [0.40804213]],\n",
       "\n",
       "         [[1.4096001 ],\n",
       "          [1.4096001 ],\n",
       "          [1.4096001 ],\n",
       "          ...,\n",
       "          [0.33385265],\n",
       "          [0.33385265],\n",
       "          [0.33385265]],\n",
       "\n",
       "         ...,\n",
       "\n",
       "         [[1.0757475 ],\n",
       "          [1.0386527 ],\n",
       "          [1.0386527 ],\n",
       "          ...,\n",
       "          [0.03709474],\n",
       "          [0.03709474],\n",
       "          [0.03709474]],\n",
       "\n",
       "         [[1.0386527 ],\n",
       "          [1.0386527 ],\n",
       "          [1.0386527 ],\n",
       "          ...,\n",
       "          [0.07418948],\n",
       "          [0.        ],\n",
       "          [0.        ]],\n",
       "\n",
       "         [[1.0386527 ],\n",
       "          [1.0386527 ],\n",
       "          [1.0386527 ],\n",
       "          ...,\n",
       "          [0.07418948],\n",
       "          [0.        ],\n",
       "          [9.459159  ]]],\n",
       "\n",
       "\n",
       "        [[[1.4466949 ],\n",
       "          [1.4466949 ],\n",
       "          [1.4466949 ],\n",
       "          ...,\n",
       "          [0.25966316],\n",
       "          [0.40804213],\n",
       "          [0.44513687]],\n",
       "\n",
       "         [[1.4466949 ],\n",
       "          [1.4466949 ],\n",
       "          [1.4466949 ],\n",
       "          ...,\n",
       "          [0.1854737 ],\n",
       "          [0.33385265],\n",
       "          [0.40804213]],\n",
       "\n",
       "         [[1.4837896 ],\n",
       "          [1.4837896 ],\n",
       "          [1.4096001 ],\n",
       "          ...,\n",
       "          [0.2967579 ],\n",
       "          [0.33385265],\n",
       "          [0.33385265]],\n",
       "\n",
       "         ...,\n",
       "\n",
       "         [[1.001558  ],\n",
       "          [0.96446323],\n",
       "          [0.96446323],\n",
       "          ...,\n",
       "          [0.07418948],\n",
       "          [0.07418948],\n",
       "          [0.07418948]],\n",
       "\n",
       "         [[0.96446323],\n",
       "          [0.96446323],\n",
       "          [1.001558  ],\n",
       "          ...,\n",
       "          [0.07418948],\n",
       "          [0.07418948],\n",
       "          [0.07418948]],\n",
       "\n",
       "         [[1.001558  ],\n",
       "          [1.001558  ],\n",
       "          [1.001558  ],\n",
       "          ...,\n",
       "          [0.07418948],\n",
       "          [0.07418948],\n",
       "          [0.03709474]]],\n",
       "\n",
       "\n",
       "        [[[1.4096001 ],\n",
       "          [1.4096001 ],\n",
       "          [1.4096001 ],\n",
       "          ...,\n",
       "          [0.11128422],\n",
       "          [0.25966316],\n",
       "          [0.33385265]],\n",
       "\n",
       "         [[1.4096001 ],\n",
       "          [1.4096001 ],\n",
       "          [1.4096001 ],\n",
       "          ...,\n",
       "          [9.459159  ],\n",
       "          [0.1854737 ],\n",
       "          [0.25966316]],\n",
       "\n",
       "         [[1.5208843 ],\n",
       "          [1.5208843 ],\n",
       "          [1.4096001 ],\n",
       "          ...,\n",
       "          [0.33385265],\n",
       "          [0.33385265],\n",
       "          [0.3709474 ]],\n",
       "\n",
       "         ...,\n",
       "\n",
       "         [[1.0386527 ],\n",
       "          [1.001558  ],\n",
       "          [1.001558  ],\n",
       "          ...,\n",
       "          [0.07418948],\n",
       "          [0.07418948],\n",
       "          [0.07418948]],\n",
       "\n",
       "         [[1.001558  ],\n",
       "          [1.001558  ],\n",
       "          [1.001558  ],\n",
       "          ...,\n",
       "          [0.07418948],\n",
       "          [0.07418948],\n",
       "          [0.07418948]],\n",
       "\n",
       "         [[1.001558  ],\n",
       "          [1.001558  ],\n",
       "          [1.001558  ],\n",
       "          ...,\n",
       "          [0.07418948],\n",
       "          [0.07418948],\n",
       "          [0.03709474]]],\n",
       "\n",
       "\n",
       "        ...,\n",
       "\n",
       "\n",
       "        [[[1.4837896 ],\n",
       "          [1.4096001 ],\n",
       "          [1.4837896 ],\n",
       "          ...,\n",
       "          [0.1854737 ],\n",
       "          [0.3709474 ],\n",
       "          [0.3709474 ]],\n",
       "\n",
       "         [[1.4096001 ],\n",
       "          [1.4096001 ],\n",
       "          [1.4837896 ],\n",
       "          ...,\n",
       "          [0.11128422],\n",
       "          [0.25966316],\n",
       "          [0.40804213]],\n",
       "\n",
       "         [[1.4096001 ],\n",
       "          [1.4096001 ],\n",
       "          [1.3725054 ],\n",
       "          ...,\n",
       "          [0.2967579 ],\n",
       "          [0.3709474 ],\n",
       "          [0.3709474 ]],\n",
       "\n",
       "         ...,\n",
       "\n",
       "         [[1.0757475 ],\n",
       "          [1.0386527 ],\n",
       "          [1.001558  ],\n",
       "          ...,\n",
       "          [0.11128422],\n",
       "          [0.11128422],\n",
       "          [0.07418948]],\n",
       "\n",
       "         [[1.0386527 ],\n",
       "          [1.0386527 ],\n",
       "          [1.001558  ],\n",
       "          ...,\n",
       "          [0.07418948],\n",
       "          [0.07418948],\n",
       "          [0.07418948]],\n",
       "\n",
       "         [[1.0386527 ],\n",
       "          [1.0386527 ],\n",
       "          [1.001558  ],\n",
       "          ...,\n",
       "          [0.03709474],\n",
       "          [0.07418948],\n",
       "          [0.03709474]]],\n",
       "\n",
       "\n",
       "        [[[1.4466949 ],\n",
       "          [1.4096001 ],\n",
       "          [1.4466949 ],\n",
       "          ...,\n",
       "          [0.22256844],\n",
       "          [0.3709474 ],\n",
       "          [0.2967579 ]],\n",
       "\n",
       "         [[1.4096001 ],\n",
       "          [1.4096001 ],\n",
       "          [1.4466949 ],\n",
       "          ...,\n",
       "          [0.22256844],\n",
       "          [0.25966316],\n",
       "          [0.3709474 ]],\n",
       "\n",
       "         [[1.4466949 ],\n",
       "          [1.4466949 ],\n",
       "          [1.4096001 ],\n",
       "          ...,\n",
       "          [0.25966316],\n",
       "          [0.2967579 ],\n",
       "          [0.2967579 ]],\n",
       "\n",
       "         ...,\n",
       "\n",
       "         [[1.1128422 ],\n",
       "          [1.0757475 ],\n",
       "          [1.0386527 ],\n",
       "          ...,\n",
       "          [0.07418948],\n",
       "          [0.03709474],\n",
       "          [0.03709474]],\n",
       "\n",
       "         [[1.0757475 ],\n",
       "          [1.0757475 ],\n",
       "          [1.0386527 ],\n",
       "          ...,\n",
       "          [0.03709474],\n",
       "          [0.03709474],\n",
       "          [0.        ]],\n",
       "\n",
       "         [[1.0757475 ],\n",
       "          [1.0757475 ],\n",
       "          [1.0386527 ],\n",
       "          ...,\n",
       "          [0.03709474],\n",
       "          [0.        ],\n",
       "          [0.        ]]],\n",
       "\n",
       "\n",
       "        [[[1.5579791 ],\n",
       "          [1.4837896 ],\n",
       "          [1.4837896 ],\n",
       "          ...,\n",
       "          [0.22256844],\n",
       "          [0.25966316],\n",
       "          [0.22256844]],\n",
       "\n",
       "         [[1.4837896 ],\n",
       "          [1.4837896 ],\n",
       "          [1.4837896 ],\n",
       "          ...,\n",
       "          [0.22256844],\n",
       "          [0.1854737 ],\n",
       "          [0.25966316]],\n",
       "\n",
       "         [[1.4096001 ],\n",
       "          [1.4096001 ],\n",
       "          [1.4096001 ],\n",
       "          ...,\n",
       "          [0.25966316],\n",
       "          [0.2967579 ],\n",
       "          [0.2967579 ]],\n",
       "\n",
       "         ...,\n",
       "\n",
       "         [[1.0386527 ],\n",
       "          [1.001558  ],\n",
       "          [0.96446323],\n",
       "          ...,\n",
       "          [0.14837895],\n",
       "          [0.14837895],\n",
       "          [0.14837895]],\n",
       "\n",
       "         [[1.001558  ],\n",
       "          [1.001558  ],\n",
       "          [0.96446323],\n",
       "          ...,\n",
       "          [0.03709474],\n",
       "          [0.07418948],\n",
       "          [0.03709474]],\n",
       "\n",
       "         [[1.001558  ],\n",
       "          [1.001558  ],\n",
       "          [0.96446323],\n",
       "          ...,\n",
       "          [0.03709474],\n",
       "          [0.03709474],\n",
       "          [0.03709474]]]],\n",
       "\n",
       "\n",
       "\n",
       "       [[[[1.5547531 ],\n",
       "          [1.5168322 ],\n",
       "          [1.2893075 ],\n",
       "          ...,\n",
       "          [0.34128726],\n",
       "          [0.34128726],\n",
       "          [0.34128726]],\n",
       "\n",
       "         [[1.4789115 ],\n",
       "          [1.5926739 ],\n",
       "          [1.2513866 ],\n",
       "          ...,\n",
       "          [0.34128726],\n",
       "          [0.34128726],\n",
       "          [0.34128726]],\n",
       "\n",
       "         [[1.5926739 ],\n",
       "          [1.5926739 ],\n",
       "          [1.4789115 ],\n",
       "          ...,\n",
       "          [0.37920806],\n",
       "          [0.34128726],\n",
       "          [0.34128726]],\n",
       "\n",
       "         ...,\n",
       "\n",
       "         [[1.0238618 ],\n",
       "          [1.0238618 ],\n",
       "          [1.0238618 ],\n",
       "          ...,\n",
       "          [0.07584161],\n",
       "          [0.07584161],\n",
       "          [0.07584161]],\n",
       "\n",
       "         [[1.0238618 ],\n",
       "          [1.0238618 ],\n",
       "          [1.0238618 ],\n",
       "          ...,\n",
       "          [0.07584161],\n",
       "          [0.07584161],\n",
       "          [0.07584161]],\n",
       "\n",
       "         [[1.0238618 ],\n",
       "          [1.0238618 ],\n",
       "          [1.0238618 ],\n",
       "          ...,\n",
       "          [0.07584161],\n",
       "          [0.07584161],\n",
       "          [0.03792081]]],\n",
       "\n",
       "\n",
       "        [[[1.5926739 ],\n",
       "          [1.4789115 ],\n",
       "          [1.2513866 ],\n",
       "          ...,\n",
       "          [0.34128726],\n",
       "          [0.30336645],\n",
       "          [0.30336645]],\n",
       "\n",
       "         [[1.4789115 ],\n",
       "          [1.5168322 ],\n",
       "          [1.3272283 ],\n",
       "          ...,\n",
       "          [0.34128726],\n",
       "          [0.30336645],\n",
       "          [0.30336645]],\n",
       "\n",
       "         [[1.4789115 ],\n",
       "          [1.4789115 ],\n",
       "          [1.4409907 ],\n",
       "          ...,\n",
       "          [0.34128726],\n",
       "          [0.30336645],\n",
       "          [0.30336645]],\n",
       "\n",
       "         ...,\n",
       "\n",
       "         [[1.0997034 ],\n",
       "          [1.0238618 ],\n",
       "          [1.0238618 ],\n",
       "          ...,\n",
       "          [0.03792081],\n",
       "          [0.03792081],\n",
       "          [0.03792081]],\n",
       "\n",
       "         [[1.0997034 ],\n",
       "          [1.0238618 ],\n",
       "          [1.0238618 ],\n",
       "          ...,\n",
       "          [0.03792081],\n",
       "          [0.03792081],\n",
       "          [0.        ]],\n",
       "\n",
       "         [[1.0997034 ],\n",
       "          [1.0238618 ],\n",
       "          [1.0238618 ],\n",
       "          ...,\n",
       "          [0.03792081],\n",
       "          [0.        ],\n",
       "          [0.        ]]],\n",
       "\n",
       "\n",
       "        [[[1.5547531 ],\n",
       "          [1.4789115 ],\n",
       "          [1.2513866 ],\n",
       "          ...,\n",
       "          [0.34128726],\n",
       "          [0.30336645],\n",
       "          [0.30336645]],\n",
       "\n",
       "         [[1.4030699 ],\n",
       "          [1.5168322 ],\n",
       "          [1.3272283 ],\n",
       "          ...,\n",
       "          [0.34128726],\n",
       "          [0.30336645],\n",
       "          [0.30336645]],\n",
       "\n",
       "         [[1.4789115 ],\n",
       "          [1.4789115 ],\n",
       "          [1.4409907 ],\n",
       "          ...,\n",
       "          [0.34128726],\n",
       "          [0.30336645],\n",
       "          [0.30336645]],\n",
       "\n",
       "         ...,\n",
       "\n",
       "         [[1.0997034 ],\n",
       "          [1.0617826 ],\n",
       "          [1.0617826 ],\n",
       "          ...,\n",
       "          [0.03792081],\n",
       "          [0.03792081],\n",
       "          [0.        ]],\n",
       "\n",
       "         [[1.0997034 ],\n",
       "          [1.0617826 ],\n",
       "          [1.0617826 ],\n",
       "          ...,\n",
       "          [0.03792081],\n",
       "          [0.        ],\n",
       "          [0.        ]],\n",
       "\n",
       "         [[1.0997034 ],\n",
       "          [1.0617826 ],\n",
       "          [1.0617826 ],\n",
       "          ...,\n",
       "          [0.        ],\n",
       "          [0.        ],\n",
       "          [0.        ]]],\n",
       "\n",
       "\n",
       "        ...,\n",
       "\n",
       "\n",
       "        [[[1.4030699 ],\n",
       "          [1.2893075 ],\n",
       "          [1.2513866 ],\n",
       "          ...,\n",
       "          [0.34128726],\n",
       "          [0.30336645],\n",
       "          [0.30336645]],\n",
       "\n",
       "         [[1.365149  ],\n",
       "          [1.4030699 ],\n",
       "          [1.2893075 ],\n",
       "          ...,\n",
       "          [0.34128726],\n",
       "          [0.30336645],\n",
       "          [0.30336645]],\n",
       "\n",
       "         [[1.4789115 ],\n",
       "          [1.4789115 ],\n",
       "          [1.4409907 ],\n",
       "          ...,\n",
       "          [0.30336645],\n",
       "          [0.30336645],\n",
       "          [0.30336645]],\n",
       "\n",
       "         ...,\n",
       "\n",
       "         [[1.0997034 ],\n",
       "          [1.0997034 ],\n",
       "          [1.0997034 ],\n",
       "          ...,\n",
       "          [0.07584161],\n",
       "          [0.07584161],\n",
       "          [0.07584161]],\n",
       "\n",
       "         [[1.0997034 ],\n",
       "          [1.0997034 ],\n",
       "          [1.0997034 ],\n",
       "          ...,\n",
       "          [0.07584161],\n",
       "          [0.07584161],\n",
       "          [0.03792081]],\n",
       "\n",
       "         [[1.0997034 ],\n",
       "          [1.0997034 ],\n",
       "          [1.0617826 ],\n",
       "          ...,\n",
       "          [0.07584161],\n",
       "          [0.03792081],\n",
       "          [0.03792081]]],\n",
       "\n",
       "\n",
       "        [[[1.4409907 ],\n",
       "          [1.2134658 ],\n",
       "          [1.2134658 ],\n",
       "          ...,\n",
       "          [0.34128726],\n",
       "          [0.26544565],\n",
       "          [0.26544565]],\n",
       "\n",
       "         [[1.4030699 ],\n",
       "          [1.4409907 ],\n",
       "          [1.2134658 ],\n",
       "          ...,\n",
       "          [0.34128726],\n",
       "          [0.26544565],\n",
       "          [0.26544565]],\n",
       "\n",
       "         [[1.5547531 ],\n",
       "          [1.5168322 ],\n",
       "          [1.4409907 ],\n",
       "          ...,\n",
       "          [0.34128726],\n",
       "          [0.30336645],\n",
       "          [0.30336645]],\n",
       "\n",
       "         ...,\n",
       "\n",
       "         [[1.0997034 ],\n",
       "          [1.0997034 ],\n",
       "          [1.0997034 ],\n",
       "          ...,\n",
       "          [0.07584161],\n",
       "          [0.07584161],\n",
       "          [0.07584161]],\n",
       "\n",
       "         [[1.0997034 ],\n",
       "          [1.0997034 ],\n",
       "          [1.0997034 ],\n",
       "          ...,\n",
       "          [0.07584161],\n",
       "          [0.07584161],\n",
       "          [0.03792081]],\n",
       "\n",
       "         [[1.0997034 ],\n",
       "          [1.0997034 ],\n",
       "          [1.0997034 ],\n",
       "          ...,\n",
       "          [0.07584161],\n",
       "          [0.03792081],\n",
       "          [0.03792081]]],\n",
       "\n",
       "\n",
       "        [[[1.5547531 ],\n",
       "          [1.2893075 ],\n",
       "          [1.2134658 ],\n",
       "          ...,\n",
       "          [0.34128726],\n",
       "          [0.26544565],\n",
       "          [0.26544565]],\n",
       "\n",
       "         [[1.5168322 ],\n",
       "          [1.5168322 ],\n",
       "          [1.2134658 ],\n",
       "          ...,\n",
       "          [0.34128726],\n",
       "          [0.26544565],\n",
       "          [0.26544565]],\n",
       "\n",
       "         [[1.5547531 ],\n",
       "          [1.5168322 ],\n",
       "          [1.4409907 ],\n",
       "          ...,\n",
       "          [0.30336645],\n",
       "          [0.30336645],\n",
       "          [0.30336645]],\n",
       "\n",
       "         ...,\n",
       "\n",
       "         [[1.0617826 ],\n",
       "          [1.0617826 ],\n",
       "          [1.0617826 ],\n",
       "          ...,\n",
       "          [0.07584161],\n",
       "          [0.07584161],\n",
       "          [0.03792081]],\n",
       "\n",
       "         [[1.0617826 ],\n",
       "          [1.0617826 ],\n",
       "          [1.0617826 ],\n",
       "          ...,\n",
       "          [0.07584161],\n",
       "          [0.03792081],\n",
       "          [0.03792081]],\n",
       "\n",
       "         [[1.0617826 ],\n",
       "          [1.0617826 ],\n",
       "          [1.0617826 ],\n",
       "          ...,\n",
       "          [0.03792081],\n",
       "          [0.03792081],\n",
       "          [0.03792081]]]]], dtype=float32)"
      ]
     },
     "execution_count": 62,
     "metadata": {},
     "output_type": "execute_result"
    }
   ],
   "source": [
    "val = train_data.next(); val[0]"
   ]
  },
  {
   "cell_type": "code",
   "execution_count": 25,
   "id": "2e42a796",
   "metadata": {},
   "outputs": [
    {
     "name": "stderr",
     "output_type": "stream",
     "text": [
      "Lossy conversion from float32 to uint8. Range [0.0, 10.608295440673828]. Convert image to uint8 prior to saving to suppress this warning.\n",
      "Lossy conversion from float32 to uint8. Range [0.0, 10.608295440673828]. Convert image to uint8 prior to saving to suppress this warning.\n",
      "Lossy conversion from float32 to uint8. Range [0.0, 10.608295440673828]. Convert image to uint8 prior to saving to suppress this warning.\n",
      "Lossy conversion from float32 to uint8. Range [0.0, 10.608295440673828]. Convert image to uint8 prior to saving to suppress this warning.\n",
      "Lossy conversion from float32 to uint8. Range [0.0, 10.608295440673828]. Convert image to uint8 prior to saving to suppress this warning.\n",
      "Lossy conversion from float32 to uint8. Range [0.0, 10.608295440673828]. Convert image to uint8 prior to saving to suppress this warning.\n",
      "Lossy conversion from float32 to uint8. Range [0.0, 10.608295440673828]. Convert image to uint8 prior to saving to suppress this warning.\n",
      "Lossy conversion from float32 to uint8. Range [0.0, 10.608295440673828]. Convert image to uint8 prior to saving to suppress this warning.\n",
      "Lossy conversion from float32 to uint8. Range [0.0, 10.608295440673828]. Convert image to uint8 prior to saving to suppress this warning.\n",
      "Lossy conversion from float32 to uint8. Range [0.0, 10.608295440673828]. Convert image to uint8 prior to saving to suppress this warning.\n",
      "Lossy conversion from float32 to uint8. Range [0.0, 10.608295440673828]. Convert image to uint8 prior to saving to suppress this warning.\n",
      "Lossy conversion from float32 to uint8. Range [0.0, 10.608295440673828]. Convert image to uint8 prior to saving to suppress this warning.\n",
      "Lossy conversion from float32 to uint8. Range [0.0, 10.608295440673828]. Convert image to uint8 prior to saving to suppress this warning.\n",
      "Lossy conversion from float32 to uint8. Range [0.0, 10.608295440673828]. Convert image to uint8 prior to saving to suppress this warning.\n",
      "Lossy conversion from float32 to uint8. Range [0.0, 10.608295440673828]. Convert image to uint8 prior to saving to suppress this warning.\n",
      "Lossy conversion from float32 to uint8. Range [0.0, 10.608295440673828]. Convert image to uint8 prior to saving to suppress this warning.\n",
      "Lossy conversion from float32 to uint8. Range [0.0, 10.608295440673828]. Convert image to uint8 prior to saving to suppress this warning.\n",
      "Lossy conversion from float32 to uint8. Range [0.0, 10.608295440673828]. Convert image to uint8 prior to saving to suppress this warning.\n",
      "Lossy conversion from float32 to uint8. Range [0.0, 10.608295440673828]. Convert image to uint8 prior to saving to suppress this warning.\n",
      "Lossy conversion from float32 to uint8. Range [0.0, 10.608295440673828]. Convert image to uint8 prior to saving to suppress this warning.\n",
      "Lossy conversion from float32 to uint8. Range [0.0, 10.608295440673828]. Convert image to uint8 prior to saving to suppress this warning.\n",
      "Lossy conversion from float32 to uint8. Range [0.0, 10.608295440673828]. Convert image to uint8 prior to saving to suppress this warning.\n",
      "Lossy conversion from float32 to uint8. Range [0.0, 10.608295440673828]. Convert image to uint8 prior to saving to suppress this warning.\n",
      "Lossy conversion from float32 to uint8. Range [0.0, 10.608295440673828]. Convert image to uint8 prior to saving to suppress this warning.\n",
      "Lossy conversion from float32 to uint8. Range [0.0, 10.608295440673828]. Convert image to uint8 prior to saving to suppress this warning.\n",
      "Lossy conversion from float32 to uint8. Range [0.0, 10.608295440673828]. Convert image to uint8 prior to saving to suppress this warning.\n",
      "Lossy conversion from float32 to uint8. Range [0.0, 10.608295440673828]. Convert image to uint8 prior to saving to suppress this warning.\n",
      "Lossy conversion from float32 to uint8. Range [0.0, 10.608295440673828]. Convert image to uint8 prior to saving to suppress this warning.\n",
      "Lossy conversion from float32 to uint8. Range [0.0, 10.608295440673828]. Convert image to uint8 prior to saving to suppress this warning.\n",
      "Lossy conversion from float32 to uint8. Range [0.0, 10.608295440673828]. Convert image to uint8 prior to saving to suppress this warning.\n",
      "Lossy conversion from float32 to uint8. Range [0.0, 10.608295440673828]. Convert image to uint8 prior to saving to suppress this warning.\n",
      "Lossy conversion from float32 to uint8. Range [0.0, 10.608295440673828]. Convert image to uint8 prior to saving to suppress this warning.\n",
      "Lossy conversion from float32 to uint8. Range [0.0, 10.608295440673828]. Convert image to uint8 prior to saving to suppress this warning.\n",
      "Lossy conversion from float32 to uint8. Range [0.0, 10.608295440673828]. Convert image to uint8 prior to saving to suppress this warning.\n",
      "Lossy conversion from float32 to uint8. Range [0.0, 10.608295440673828]. Convert image to uint8 prior to saving to suppress this warning.\n",
      "Lossy conversion from float32 to uint8. Range [0.0, 10.608295440673828]. Convert image to uint8 prior to saving to suppress this warning.\n",
      "Lossy conversion from float32 to uint8. Range [0.0, 10.608295440673828]. Convert image to uint8 prior to saving to suppress this warning.\n",
      "Lossy conversion from float32 to uint8. Range [0.0, 10.608295440673828]. Convert image to uint8 prior to saving to suppress this warning.\n",
      "Lossy conversion from float32 to uint8. Range [0.0, 10.608295440673828]. Convert image to uint8 prior to saving to suppress this warning.\n",
      "Lossy conversion from float32 to uint8. Range [0.0, 10.608295440673828]. Convert image to uint8 prior to saving to suppress this warning.\n",
      "Lossy conversion from float32 to uint8. Range [0.0, 10.608295440673828]. Convert image to uint8 prior to saving to suppress this warning.\n",
      "Lossy conversion from float32 to uint8. Range [0.0, 10.608295440673828]. Convert image to uint8 prior to saving to suppress this warning.\n",
      "Lossy conversion from float32 to uint8. Range [0.0, 10.608295440673828]. Convert image to uint8 prior to saving to suppress this warning.\n",
      "Lossy conversion from float32 to uint8. Range [0.0, 10.608295440673828]. Convert image to uint8 prior to saving to suppress this warning.\n",
      "Lossy conversion from float32 to uint8. Range [0.0, 10.608295440673828]. Convert image to uint8 prior to saving to suppress this warning.\n",
      "Lossy conversion from float32 to uint8. Range [0.0, 10.608295440673828]. Convert image to uint8 prior to saving to suppress this warning.\n",
      "Lossy conversion from float32 to uint8. Range [0.0, 10.608295440673828]. Convert image to uint8 prior to saving to suppress this warning.\n",
      "Lossy conversion from float32 to uint8. Range [0.0, 10.608295440673828]. Convert image to uint8 prior to saving to suppress this warning.\n",
      "Lossy conversion from float32 to uint8. Range [0.0, 10.608295440673828]. Convert image to uint8 prior to saving to suppress this warning.\n",
      "Lossy conversion from float32 to uint8. Range [0.0, 10.608295440673828]. Convert image to uint8 prior to saving to suppress this warning.\n",
      "Lossy conversion from float32 to uint8. Range [0.0, 10.608295440673828]. Convert image to uint8 prior to saving to suppress this warning.\n",
      "Lossy conversion from float32 to uint8. Range [0.0, 10.608295440673828]. Convert image to uint8 prior to saving to suppress this warning.\n",
      "Lossy conversion from float32 to uint8. Range [0.0, 10.608295440673828]. Convert image to uint8 prior to saving to suppress this warning.\n",
      "Lossy conversion from float32 to uint8. Range [0.0, 10.608295440673828]. Convert image to uint8 prior to saving to suppress this warning.\n",
      "Lossy conversion from float32 to uint8. Range [0.0, 10.608295440673828]. Convert image to uint8 prior to saving to suppress this warning.\n",
      "Lossy conversion from float32 to uint8. Range [0.0, 10.608295440673828]. Convert image to uint8 prior to saving to suppress this warning.\n",
      "Lossy conversion from float32 to uint8. Range [0.0, 10.608295440673828]. Convert image to uint8 prior to saving to suppress this warning.\n",
      "Lossy conversion from float32 to uint8. Range [0.0, 10.608295440673828]. Convert image to uint8 prior to saving to suppress this warning.\n",
      "Lossy conversion from float32 to uint8. Range [0.0, 10.608295440673828]. Convert image to uint8 prior to saving to suppress this warning.\n",
      "Lossy conversion from float32 to uint8. Range [0.0, 10.608295440673828]. Convert image to uint8 prior to saving to suppress this warning.\n"
     ]
    },
    {
     "name": "stderr",
     "output_type": "stream",
     "text": [
      "Lossy conversion from float32 to uint8. Range [0.0, 10.608295440673828]. Convert image to uint8 prior to saving to suppress this warning.\n",
      "Lossy conversion from float32 to uint8. Range [0.0, 10.608295440673828]. Convert image to uint8 prior to saving to suppress this warning.\n",
      "Lossy conversion from float32 to uint8. Range [0.0, 10.608295440673828]. Convert image to uint8 prior to saving to suppress this warning.\n",
      "Lossy conversion from float32 to uint8. Range [0.0, 10.608295440673828]. Convert image to uint8 prior to saving to suppress this warning.\n",
      "Lossy conversion from float32 to uint8. Range [0.0, 10.608295440673828]. Convert image to uint8 prior to saving to suppress this warning.\n",
      "Lossy conversion from float32 to uint8. Range [0.0, 10.608295440673828]. Convert image to uint8 prior to saving to suppress this warning.\n",
      "Lossy conversion from float32 to uint8. Range [0.0, 10.608295440673828]. Convert image to uint8 prior to saving to suppress this warning.\n",
      "Lossy conversion from float32 to uint8. Range [0.0, 10.608295440673828]. Convert image to uint8 prior to saving to suppress this warning.\n",
      "Lossy conversion from float32 to uint8. Range [0.0, 10.608295440673828]. Convert image to uint8 prior to saving to suppress this warning.\n",
      "Lossy conversion from float32 to uint8. Range [0.0, 10.608295440673828]. Convert image to uint8 prior to saving to suppress this warning.\n",
      "Lossy conversion from float32 to uint8. Range [0.0, 10.608295440673828]. Convert image to uint8 prior to saving to suppress this warning.\n",
      "Lossy conversion from float32 to uint8. Range [0.0, 10.608295440673828]. Convert image to uint8 prior to saving to suppress this warning.\n",
      "Lossy conversion from float32 to uint8. Range [0.0, 10.608295440673828]. Convert image to uint8 prior to saving to suppress this warning.\n",
      "Lossy conversion from float32 to uint8. Range [0.0, 10.608295440673828]. Convert image to uint8 prior to saving to suppress this warning.\n",
      "Lossy conversion from float32 to uint8. Range [0.0, 10.608295440673828]. Convert image to uint8 prior to saving to suppress this warning.\n"
     ]
    }
   ],
   "source": [
    "imageio.mimsave('./animation.gif', val[0][1], fps=10)"
   ]
  },
  {
   "cell_type": "code",
   "execution_count": 26,
   "id": "3274950a",
   "metadata": {},
   "outputs": [
    {
     "data": {
      "text/plain": [
       "<matplotlib.image.AxesImage at 0x16bbabfa700>"
      ]
     },
     "execution_count": 26,
     "metadata": {},
     "output_type": "execute_result"
    },
    {
     "data": {
      "image/png": "[encoded data removed]",
      "text/plain": [
       "<Figure size 640x480 with 1 Axes>"
      ]
     },
     "metadata": {},
     "output_type": "display_data"
    }
   ],
   "source": [
    "# getting the first frame of first video\n",
    "plt.imshow(val[0][0][40])"
   ]
  },
  {
   "cell_type": "code",
   "execution_count": 27,
   "id": "2126e096",
   "metadata": {},
   "outputs": [
    {
     "data": {
      "text/plain": [
       "<tf.Tensor: shape=(), dtype=string, numpy=b'bin green by u two now'>"
      ]
     },
     "execution_count": 27,
     "metadata": {},
     "output_type": "execute_result"
    }
   ],
   "source": [
    "tf.strings.reduce_join([num_to_char(word) for word in val[1][0]])"
   ]
  },
  {
   "cell_type": "code",
   "execution_count": 63,
   "id": "3949e046",
   "metadata": {},
   "outputs": [],
   "source": [
    "test_1 = test_data.next()"
   ]
  },
  {
   "cell_type": "markdown",
   "id": "1b124a9e",
   "metadata": {},
   "source": [
    "## Building the Deep Model"
   ]
  },
  {
   "cell_type": "code",
   "execution_count": 31,
   "id": "7526b1eb",
   "metadata": {},
   "outputs": [],
   "source": [
    "from tensorflow.keras.models import Sequential\n",
    "from tensorflow.keras.layers import Conv3D, LSTM, Dense, Bidirectional, MaxPool3D, Activation, Reshape, SpatialDropout3D, BatchNormalization, TimeDistributed, Flatten, Dropout\n",
    "from tensorflow.keras.optimizers import Adam\n",
    "from tensorflow.keras.callbacks import ModelCheckpoint, LearningRateScheduler"
   ]
  },
  {
   "cell_type": "code",
   "execution_count": 33,
   "id": "dec066bc",
   "metadata": {},
   "outputs": [],
   "source": [
    "model = Sequential()\n",
    "\n",
    "model.add(Conv3D(128, 3, input_shape=(75, 46, 140, 1), padding=\"same\"))\n",
    "model.add(Activation(\"relu\"))\n",
    "model.add(MaxPool3D((1, 2, 2)))\n",
    "\n",
    "model.add(Conv3D(256, 3, padding=\"same\"))\n",
    "model.add(Activation(\"relu\"))\n",
    "model.add(MaxPool3D((1, 2, 2)))\n",
    "\n",
    "model.add(Conv3D(75, 3, padding=\"same\"))\n",
    "model.add(Activation(\"relu\"))\n",
    "model.add(MaxPool3D((1, 2, 2)))\n",
    "\n",
    "model.add(TimeDistributed(Flatten()))\n",
    "\n",
    "model.add(Bidirectional(LSTM(128, kernel_initializer='Orthogonal', return_sequences=True)))\n",
    "model.add(Dropout(0.5))\n",
    "\n",
    "model.add(Bidirectional(LSTM(128, kernel_initializer='Orthogonal', return_sequences=True)))\n",
    "model.add(Dropout(0.5))\n",
    "\n",
    "model.add(Dense(char_to_num.vocabulary_size() + 1, kernel_initializer='he_normal', activation=\"softmax\"))"
   ]
  },
  {
   "cell_type": "code",
   "execution_count": 36,
   "id": "3f11c420",
   "metadata": {},
   "outputs": [
    {
     "name": "stdout",
     "output_type": "stream",
     "text": [
      "Model: \"sequential\"\n",
      "_________________________________________________________________\n",
      " Layer (type)                Output Shape              Param #   \n",
      "=================================================================\n",
      " conv3d (Conv3D)             (None, 75, 46, 140, 128)  3584      \n",
      "                                                                 \n",
      " activation (Activation)     (None, 75, 46, 140, 128)  0         \n",
      "                                                                 \n",
      " max_pooling3d (MaxPooling3D  (None, 75, 23, 70, 128)  0         \n",
      " )                                                               \n",
      "                                                                 \n",
      " conv3d_1 (Conv3D)           (None, 75, 23, 70, 256)   884992    \n",
      "                                                                 \n",
      " activation_1 (Activation)   (None, 75, 23, 70, 256)   0         \n",
      "                                                                 \n",
      " max_pooling3d_1 (MaxPooling  (None, 75, 11, 35, 256)  0         \n",
      " 3D)                                                             \n",
      "                                                                 \n",
      " conv3d_2 (Conv3D)           (None, 75, 11, 35, 75)    518475    \n",
      "                                                                 \n",
      " activation_2 (Activation)   (None, 75, 11, 35, 75)    0         \n",
      "                                                                 \n",
      " max_pooling3d_2 (MaxPooling  (None, 75, 5, 17, 75)    0         \n",
      " 3D)                                                             \n",
      "                                                                 \n",
      " time_distributed (TimeDistr  (None, 75, 6375)         0         \n",
      " ibuted)                                                         \n",
      "                                                                 \n",
      " bidirectional (Bidirectiona  (None, 75, 256)          6660096   \n",
      " l)                                                              \n",
      "                                                                 \n",
      " dropout (Dropout)           (None, 75, 256)           0         \n",
      "                                                                 \n",
      " bidirectional_1 (Bidirectio  (None, 75, 256)          394240    \n",
      " nal)                                                            \n",
      "                                                                 \n",
      " dropout_1 (Dropout)         (None, 75, 256)           0         \n",
      "                                                                 \n",
      " dense (Dense)               (None, 75, 41)            10537     \n",
      "                                                                 \n",
      "=================================================================\n",
      "Total params: 8,471,924\n",
      "Trainable params: 8,471,924\n",
      "Non-trainable params: 0\n",
      "_________________________________________________________________\n"
     ]
    }
   ],
   "source": [
    "model.summary()"
   ]
  },
  {
   "cell_type": "code",
   "execution_count": 37,
   "id": "b09d8a30",
   "metadata": {},
   "outputs": [
    {
     "data": {
      "image/png": "[encoded data removed]",
      "text/plain": [
       "<IPython.core.display.Image object>"
      ]
     },
     "execution_count": 37,
     "metadata": {},
     "output_type": "execute_result"
    }
   ],
   "source": [
    "from tensorflow.keras.utils import plot_model\n",
    "plot_model(model, show_shapes=True)"
   ]
  },
  {
   "cell_type": "code",
   "execution_count": 38,
   "id": "45593419",
   "metadata": {},
   "outputs": [
    {
     "name": "stdout",
     "output_type": "stream",
     "text": [
      "1/1 [==============================] - 7s 7s/step\n"
     ]
    }
   ],
   "source": [
    "y_hat = model.predict(val[0])"
   ]
  },
  {
   "cell_type": "code",
   "execution_count": 39,
   "id": "58d8dd2c",
   "metadata": {},
   "outputs": [
    {
     "data": {
      "text/plain": [
       "<tf.Tensor: shape=(), dtype=string, numpy=b'f3ffppppppppppppppttppppppppppppppppppppppppppppppppppppppptttpppp'>"
      ]
     },
     "execution_count": 39,
     "metadata": {},
     "output_type": "execute_result"
    }
   ],
   "source": [
    "tf.strings.reduce_join([num_to_char(tf.argmax(x)) for x in y_hat[1]])"
   ]
  },
  {
   "cell_type": "code",
   "execution_count": 40,
   "id": "d35a490b",
   "metadata": {},
   "outputs": [
    {
     "data": {
      "text/plain": [
       "<tf.Tensor: shape=(75,), dtype=int64, numpy=\n",
       "array([15, 15, 24, 24, 20, 30, 30, 30, 30, 30, 30, 30, 20, 20, 20, 20, 20,\n",
       "       20, 20, 20, 16, 16, 16, 16, 16, 16, 16, 16, 16, 16, 16, 16, 16, 16,\n",
       "       16, 16, 16, 16, 16, 16, 16, 20, 20, 20, 20, 20, 20, 20, 20, 20, 20,\n",
       "       20, 20, 20, 20, 20, 20, 20, 20, 20, 20, 20, 20, 20, 20, 20, 20, 20,\n",
       "       20, 20, 20, 20, 20, 20, 20], dtype=int64)>"
      ]
     },
     "execution_count": 40,
     "metadata": {},
     "output_type": "execute_result"
    }
   ],
   "source": [
    "tf.argmax(y_hat[0], axis=1)"
   ]
  },
  {
   "cell_type": "code",
   "execution_count": 41,
   "id": "93bc3927",
   "metadata": {},
   "outputs": [
    {
     "data": {
      "text/plain": [
       "((None, 75, 46, 140, 1), (None, 75, 41))"
      ]
     },
     "execution_count": 41,
     "metadata": {},
     "output_type": "execute_result"
    }
   ],
   "source": [
    "model.input_shape, model.output_shape"
   ]
  },
  {
   "cell_type": "markdown",
   "id": "989b6419",
   "metadata": {},
   "source": [
    "## Training Setpup and Model-Training"
   ]
  },
  {
   "cell_type": "code",
   "execution_count": 42,
   "id": "6c55b916",
   "metadata": {},
   "outputs": [],
   "source": [
    "def schedular(epoch, lr):\n",
    "    if epoch < 30:\n",
    "        return lr\n",
    "    else:\n",
    "        return lr * tf.math.exp(-0.1)"
   ]
  },
  {
   "cell_type": "code",
   "execution_count": 43,
   "id": "3e232f9c",
   "metadata": {},
   "outputs": [],
   "source": [
    "def CTCLoss(y_true, y_pred):\n",
    "    batch_len = tf.cast(tf.shape(y_true)[0], dtype=\"int64\")\n",
    "    input_length = tf.cast(tf.shape(y_pred)[1], dtype=\"int64\")\n",
    "    label_length = tf.cast(tf.shape(y_true)[1], dtype=\"int64\")\n",
    "    \n",
    "    input_length = input_length * tf.ones(shape=(batch_len, 1), dtype=\"int64\")\n",
    "    label_length = label_length * tf.ones(shape=(batch_len, 1), dtype=\"int64\")\n",
    "    \n",
    "    loss = tf.keras.backend.ctc_batch_cost(y_true, y_pred, input_length, label_length)\n",
    "    return loss"
   ]
  },
  {
   "cell_type": "code",
   "execution_count": 44,
   "id": "86cfdecf",
   "metadata": {},
   "outputs": [],
   "source": [
    "class ProductExample(tf.keras.callbacks.Callback):\n",
    "    def __init__(self, dataset) -> None:\n",
    "        self.dataset = dataset.as_numpy_iterator()\n",
    "        \n",
    "    def on_epoch_end(self, epoch, log=None) -> None:\n",
    "        data = self.dataset.next()\n",
    "        yhat = self.model.predict(data[0])\n",
    "        decoded = tf.keras.backend.ctc_decode(yhat, [75, 75], greedy=False)[0][0].numpy()\n",
    "        for x in range(len(yhat)):\n",
    "            print('Original: ', tf.strings.reduce_join(num_to_char(data[1][x])).numpy().decode('utf-8'))\n",
    "            print('Prediction: ', tf.strings.reduce_join(num_to_char(decoded[x])).numpy().decode('utf-8'))\n",
    "            print('~'*100)"
   ]
  },
  {
   "cell_type": "code",
   "execution_count": 45,
   "id": "886c741d",
   "metadata": {},
   "outputs": [],
   "source": [
    "model.compile(optimizer=Adam(learning_rate=0.0001), loss=CTCLoss)"
   ]
  },
  {
   "cell_type": "code",
   "execution_count": 46,
   "id": "47f5252d",
   "metadata": {},
   "outputs": [],
   "source": [
    "ckp_cb = ModelCheckpoint(os.path.join('models', 'checkpoint'), monitor='loss', save_weights_only=True)"
   ]
  },
  {
   "cell_type": "code",
   "execution_count": 47,
   "id": "443032e5",
   "metadata": {},
   "outputs": [],
   "source": [
    "schd_cb = LearningRateScheduler(schedular)"
   ]
  },
  {
   "cell_type": "code",
   "execution_count": 48,
   "id": "bc53bbca",
   "metadata": {},
   "outputs": [],
   "source": [
    "exmp_cb = ProductExample(data)"
   ]
  },
  {
   "cell_type": "code",
   "execution_count": 91,
   "id": "69866a82",
   "metadata": {},
   "outputs": [
    {
     "name": "stdout",
     "output_type": "stream",
     "text": [
      "Epoch 1/100\n",
      "  3/500 [..............................] - ETA: 1:15:36 - loss: 103.7840"
     ]
    },
    {
     "ename": "KeyboardInterrupt",
     "evalue": "",
     "output_type": "error",
     "traceback": [
      "\u001b[1;31m---------------------------------------------------------------------------\u001b[0m",
      "\u001b[1;31mKeyboardInterrupt\u001b[0m                         Traceback (most recent call last)",
      "\u001b[1;32m~\\AppData\\Local\\Temp\\ipykernel_8564\\1660903396.py\u001b[0m in \u001b[0;36m<module>\u001b[1;34m\u001b[0m\n\u001b[1;32m----> 1\u001b[1;33m model.fit(data, \n\u001b[0m\u001b[0;32m      2\u001b[0m           \u001b[0mepochs\u001b[0m\u001b[1;33m=\u001b[0m\u001b[1;36m100\u001b[0m\u001b[1;33m,\u001b[0m\u001b[1;33m\u001b[0m\u001b[1;33m\u001b[0m\u001b[0m\n\u001b[0;32m      3\u001b[0m           \u001b[0mvalidation_data\u001b[0m \u001b[1;33m=\u001b[0m \u001b[0mtest\u001b[0m\u001b[1;33m,\u001b[0m\u001b[1;33m\u001b[0m\u001b[1;33m\u001b[0m\u001b[0m\n\u001b[0;32m      4\u001b[0m           callbacks=[ckp_cb, exmp_cb, schd_cb])\n",
      "\u001b[1;32m~\\anaconda3\\lib\\site-packages\\keras\\utils\\traceback_utils.py\u001b[0m in \u001b[0;36merror_handler\u001b[1;34m(*args, **kwargs)\u001b[0m\n\u001b[0;32m     63\u001b[0m         \u001b[0mfiltered_tb\u001b[0m \u001b[1;33m=\u001b[0m \u001b[1;32mNone\u001b[0m\u001b[1;33m\u001b[0m\u001b[1;33m\u001b[0m\u001b[0m\n\u001b[0;32m     64\u001b[0m         \u001b[1;32mtry\u001b[0m\u001b[1;33m:\u001b[0m\u001b[1;33m\u001b[0m\u001b[1;33m\u001b[0m\u001b[0m\n\u001b[1;32m---> 65\u001b[1;33m             \u001b[1;32mreturn\u001b[0m \u001b[0mfn\u001b[0m\u001b[1;33m(\u001b[0m\u001b[1;33m*\u001b[0m\u001b[0margs\u001b[0m\u001b[1;33m,\u001b[0m \u001b[1;33m**\u001b[0m\u001b[0mkwargs\u001b[0m\u001b[1;33m)\u001b[0m\u001b[1;33m\u001b[0m\u001b[1;33m\u001b[0m\u001b[0m\n\u001b[0m\u001b[0;32m     66\u001b[0m         \u001b[1;32mexcept\u001b[0m \u001b[0mException\u001b[0m \u001b[1;32mas\u001b[0m \u001b[0me\u001b[0m\u001b[1;33m:\u001b[0m\u001b[1;33m\u001b[0m\u001b[1;33m\u001b[0m\u001b[0m\n\u001b[0;32m     67\u001b[0m             \u001b[0mfiltered_tb\u001b[0m \u001b[1;33m=\u001b[0m \u001b[0m_process_traceback_frames\u001b[0m\u001b[1;33m(\u001b[0m\u001b[0me\u001b[0m\u001b[1;33m.\u001b[0m\u001b[0m__traceback__\u001b[0m\u001b[1;33m)\u001b[0m\u001b[1;33m\u001b[0m\u001b[1;33m\u001b[0m\u001b[0m\n",
      "\u001b[1;32m~\\anaconda3\\lib\\site-packages\\keras\\engine\\training.py\u001b[0m in \u001b[0;36mfit\u001b[1;34m(self, x, y, batch_size, epochs, verbose, callbacks, validation_split, validation_data, shuffle, class_weight, sample_weight, initial_epoch, steps_per_epoch, validation_steps, validation_batch_size, validation_freq, max_queue_size, workers, use_multiprocessing)\u001b[0m\n\u001b[0;32m   1562\u001b[0m                         ):\n\u001b[0;32m   1563\u001b[0m                             \u001b[0mcallbacks\u001b[0m\u001b[1;33m.\u001b[0m\u001b[0mon_train_batch_begin\u001b[0m\u001b[1;33m(\u001b[0m\u001b[0mstep\u001b[0m\u001b[1;33m)\u001b[0m\u001b[1;33m\u001b[0m\u001b[1;33m\u001b[0m\u001b[0m\n\u001b[1;32m-> 1564\u001b[1;33m                             \u001b[0mtmp_logs\u001b[0m \u001b[1;33m=\u001b[0m \u001b[0mself\u001b[0m\u001b[1;33m.\u001b[0m\u001b[0mtrain_function\u001b[0m\u001b[1;33m(\u001b[0m\u001b[0miterator\u001b[0m\u001b[1;33m)\u001b[0m\u001b[1;33m\u001b[0m\u001b[1;33m\u001b[0m\u001b[0m\n\u001b[0m\u001b[0;32m   1565\u001b[0m                             \u001b[1;32mif\u001b[0m \u001b[0mdata_handler\u001b[0m\u001b[1;33m.\u001b[0m\u001b[0mshould_sync\u001b[0m\u001b[1;33m:\u001b[0m\u001b[1;33m\u001b[0m\u001b[1;33m\u001b[0m\u001b[0m\n\u001b[0;32m   1566\u001b[0m                                 \u001b[0mcontext\u001b[0m\u001b[1;33m.\u001b[0m\u001b[0masync_wait\u001b[0m\u001b[1;33m(\u001b[0m\u001b[1;33m)\u001b[0m\u001b[1;33m\u001b[0m\u001b[1;33m\u001b[0m\u001b[0m\n",
      "\u001b[1;32m~\\anaconda3\\lib\\site-packages\\tensorflow\\python\\util\\traceback_utils.py\u001b[0m in \u001b[0;36merror_handler\u001b[1;34m(*args, **kwargs)\u001b[0m\n\u001b[0;32m    148\u001b[0m     \u001b[0mfiltered_tb\u001b[0m \u001b[1;33m=\u001b[0m \u001b[1;32mNone\u001b[0m\u001b[1;33m\u001b[0m\u001b[1;33m\u001b[0m\u001b[0m\n\u001b[0;32m    149\u001b[0m     \u001b[1;32mtry\u001b[0m\u001b[1;33m:\u001b[0m\u001b[1;33m\u001b[0m\u001b[1;33m\u001b[0m\u001b[0m\n\u001b[1;32m--> 150\u001b[1;33m       \u001b[1;32mreturn\u001b[0m \u001b[0mfn\u001b[0m\u001b[1;33m(\u001b[0m\u001b[1;33m*\u001b[0m\u001b[0margs\u001b[0m\u001b[1;33m,\u001b[0m \u001b[1;33m**\u001b[0m\u001b[0mkwargs\u001b[0m\u001b[1;33m)\u001b[0m\u001b[1;33m\u001b[0m\u001b[1;33m\u001b[0m\u001b[0m\n\u001b[0m\u001b[0;32m    151\u001b[0m     \u001b[1;32mexcept\u001b[0m \u001b[0mException\u001b[0m \u001b[1;32mas\u001b[0m \u001b[0me\u001b[0m\u001b[1;33m:\u001b[0m\u001b[1;33m\u001b[0m\u001b[1;33m\u001b[0m\u001b[0m\n\u001b[0;32m    152\u001b[0m       \u001b[0mfiltered_tb\u001b[0m \u001b[1;33m=\u001b[0m \u001b[0m_process_traceback_frames\u001b[0m\u001b[1;33m(\u001b[0m\u001b[0me\u001b[0m\u001b[1;33m.\u001b[0m\u001b[0m__traceback__\u001b[0m\u001b[1;33m)\u001b[0m\u001b[1;33m\u001b[0m\u001b[1;33m\u001b[0m\u001b[0m\n",
      "\u001b[1;32m~\\anaconda3\\lib\\site-packages\\tensorflow\\python\\eager\\def_function.py\u001b[0m in \u001b[0;36m__call__\u001b[1;34m(self, *args, **kwds)\u001b[0m\n\u001b[0;32m    913\u001b[0m \u001b[1;33m\u001b[0m\u001b[0m\n\u001b[0;32m    914\u001b[0m       \u001b[1;32mwith\u001b[0m \u001b[0mOptionalXlaContext\u001b[0m\u001b[1;33m(\u001b[0m\u001b[0mself\u001b[0m\u001b[1;33m.\u001b[0m\u001b[0m_jit_compile\u001b[0m\u001b[1;33m)\u001b[0m\u001b[1;33m:\u001b[0m\u001b[1;33m\u001b[0m\u001b[1;33m\u001b[0m\u001b[0m\n\u001b[1;32m--> 915\u001b[1;33m         \u001b[0mresult\u001b[0m \u001b[1;33m=\u001b[0m \u001b[0mself\u001b[0m\u001b[1;33m.\u001b[0m\u001b[0m_call\u001b[0m\u001b[1;33m(\u001b[0m\u001b[1;33m*\u001b[0m\u001b[0margs\u001b[0m\u001b[1;33m,\u001b[0m \u001b[1;33m**\u001b[0m\u001b[0mkwds\u001b[0m\u001b[1;33m)\u001b[0m\u001b[1;33m\u001b[0m\u001b[1;33m\u001b[0m\u001b[0m\n\u001b[0m\u001b[0;32m    916\u001b[0m \u001b[1;33m\u001b[0m\u001b[0m\n\u001b[0;32m    917\u001b[0m       \u001b[0mnew_tracing_count\u001b[0m \u001b[1;33m=\u001b[0m \u001b[0mself\u001b[0m\u001b[1;33m.\u001b[0m\u001b[0mexperimental_get_tracing_count\u001b[0m\u001b[1;33m(\u001b[0m\u001b[1;33m)\u001b[0m\u001b[1;33m\u001b[0m\u001b[1;33m\u001b[0m\u001b[0m\n",
      "\u001b[1;32m~\\anaconda3\\lib\\site-packages\\tensorflow\\python\\eager\\def_function.py\u001b[0m in \u001b[0;36m_call\u001b[1;34m(self, *args, **kwds)\u001b[0m\n\u001b[0;32m    945\u001b[0m       \u001b[1;31m# In this case we have created variables on the first call, so we run the\u001b[0m\u001b[1;33m\u001b[0m\u001b[1;33m\u001b[0m\u001b[0m\n\u001b[0;32m    946\u001b[0m       \u001b[1;31m# defunned version which is guaranteed to never create variables.\u001b[0m\u001b[1;33m\u001b[0m\u001b[1;33m\u001b[0m\u001b[0m\n\u001b[1;32m--> 947\u001b[1;33m       \u001b[1;32mreturn\u001b[0m \u001b[0mself\u001b[0m\u001b[1;33m.\u001b[0m\u001b[0m_stateless_fn\u001b[0m\u001b[1;33m(\u001b[0m\u001b[1;33m*\u001b[0m\u001b[0margs\u001b[0m\u001b[1;33m,\u001b[0m \u001b[1;33m**\u001b[0m\u001b[0mkwds\u001b[0m\u001b[1;33m)\u001b[0m  \u001b[1;31m# pylint: disable=not-callable\u001b[0m\u001b[1;33m\u001b[0m\u001b[1;33m\u001b[0m\u001b[0m\n\u001b[0m\u001b[0;32m    948\u001b[0m     \u001b[1;32melif\u001b[0m \u001b[0mself\u001b[0m\u001b[1;33m.\u001b[0m\u001b[0m_stateful_fn\u001b[0m \u001b[1;32mis\u001b[0m \u001b[1;32mnot\u001b[0m \u001b[1;32mNone\u001b[0m\u001b[1;33m:\u001b[0m\u001b[1;33m\u001b[0m\u001b[1;33m\u001b[0m\u001b[0m\n\u001b[0;32m    949\u001b[0m       \u001b[1;31m# Release the lock early so that multiple threads can perform the call\u001b[0m\u001b[1;33m\u001b[0m\u001b[1;33m\u001b[0m\u001b[0m\n",
      "\u001b[1;32m~\\anaconda3\\lib\\site-packages\\tensorflow\\python\\eager\\function.py\u001b[0m in \u001b[0;36m__call__\u001b[1;34m(self, *args, **kwargs)\u001b[0m\n\u001b[0;32m   2494\u001b[0m       (graph_function,\n\u001b[0;32m   2495\u001b[0m        filtered_flat_args) = self._maybe_define_function(args, kwargs)\n\u001b[1;32m-> 2496\u001b[1;33m     return graph_function._call_flat(\n\u001b[0m\u001b[0;32m   2497\u001b[0m         filtered_flat_args, captured_inputs=graph_function.captured_inputs)  # pylint: disable=protected-access\n\u001b[0;32m   2498\u001b[0m \u001b[1;33m\u001b[0m\u001b[0m\n",
      "\u001b[1;32m~\\anaconda3\\lib\\site-packages\\tensorflow\\python\\eager\\function.py\u001b[0m in \u001b[0;36m_call_flat\u001b[1;34m(self, args, captured_inputs, cancellation_manager)\u001b[0m\n\u001b[0;32m   1860\u001b[0m         and executing_eagerly):\n\u001b[0;32m   1861\u001b[0m       \u001b[1;31m# No tape is watching; skip to running the function.\u001b[0m\u001b[1;33m\u001b[0m\u001b[1;33m\u001b[0m\u001b[0m\n\u001b[1;32m-> 1862\u001b[1;33m       return self._build_call_outputs(self._inference_function.call(\n\u001b[0m\u001b[0;32m   1863\u001b[0m           ctx, args, cancellation_manager=cancellation_manager))\n\u001b[0;32m   1864\u001b[0m     forward_backward = self._select_forward_and_backward_functions(\n",
      "\u001b[1;32m~\\anaconda3\\lib\\site-packages\\tensorflow\\python\\eager\\function.py\u001b[0m in \u001b[0;36mcall\u001b[1;34m(self, ctx, args, cancellation_manager)\u001b[0m\n\u001b[0;32m    497\u001b[0m       \u001b[1;32mwith\u001b[0m \u001b[0m_InterpolateFunctionError\u001b[0m\u001b[1;33m(\u001b[0m\u001b[0mself\u001b[0m\u001b[1;33m)\u001b[0m\u001b[1;33m:\u001b[0m\u001b[1;33m\u001b[0m\u001b[1;33m\u001b[0m\u001b[0m\n\u001b[0;32m    498\u001b[0m         \u001b[1;32mif\u001b[0m \u001b[0mcancellation_manager\u001b[0m \u001b[1;32mis\u001b[0m \u001b[1;32mNone\u001b[0m\u001b[1;33m:\u001b[0m\u001b[1;33m\u001b[0m\u001b[1;33m\u001b[0m\u001b[0m\n\u001b[1;32m--> 499\u001b[1;33m           outputs = execute.execute(\n\u001b[0m\u001b[0;32m    500\u001b[0m               \u001b[0mstr\u001b[0m\u001b[1;33m(\u001b[0m\u001b[0mself\u001b[0m\u001b[1;33m.\u001b[0m\u001b[0msignature\u001b[0m\u001b[1;33m.\u001b[0m\u001b[0mname\u001b[0m\u001b[1;33m)\u001b[0m\u001b[1;33m,\u001b[0m\u001b[1;33m\u001b[0m\u001b[1;33m\u001b[0m\u001b[0m\n\u001b[0;32m    501\u001b[0m               \u001b[0mnum_outputs\u001b[0m\u001b[1;33m=\u001b[0m\u001b[0mself\u001b[0m\u001b[1;33m.\u001b[0m\u001b[0m_num_outputs\u001b[0m\u001b[1;33m,\u001b[0m\u001b[1;33m\u001b[0m\u001b[1;33m\u001b[0m\u001b[0m\n",
      "\u001b[1;32m~\\anaconda3\\lib\\site-packages\\tensorflow\\python\\eager\\execute.py\u001b[0m in \u001b[0;36mquick_execute\u001b[1;34m(op_name, num_outputs, inputs, attrs, ctx, name)\u001b[0m\n\u001b[0;32m     52\u001b[0m   \u001b[1;32mtry\u001b[0m\u001b[1;33m:\u001b[0m\u001b[1;33m\u001b[0m\u001b[1;33m\u001b[0m\u001b[0m\n\u001b[0;32m     53\u001b[0m     \u001b[0mctx\u001b[0m\u001b[1;33m.\u001b[0m\u001b[0mensure_initialized\u001b[0m\u001b[1;33m(\u001b[0m\u001b[1;33m)\u001b[0m\u001b[1;33m\u001b[0m\u001b[1;33m\u001b[0m\u001b[0m\n\u001b[1;32m---> 54\u001b[1;33m     tensors = pywrap_tfe.TFE_Py_Execute(ctx._handle, device_name, op_name,\n\u001b[0m\u001b[0;32m     55\u001b[0m                                         inputs, attrs, num_outputs)\n\u001b[0;32m     56\u001b[0m   \u001b[1;32mexcept\u001b[0m \u001b[0mcore\u001b[0m\u001b[1;33m.\u001b[0m\u001b[0m_NotOkStatusException\u001b[0m \u001b[1;32mas\u001b[0m \u001b[0me\u001b[0m\u001b[1;33m:\u001b[0m\u001b[1;33m\u001b[0m\u001b[1;33m\u001b[0m\u001b[0m\n",
      "\u001b[1;31mKeyboardInterrupt\u001b[0m: "
     ]
    }
   ],
   "source": [
    "# Fitting the model on single epoch takes around 1hr so trained on colab and dowloaded the checkpoints\n",
    "model.fit(data, \n",
    "          epochs=100, \n",
    "          validation_data = test,rl \n",
    "          callbacks=[ckp_cb, exmp_cb, schd_cb])"
   ]
  },
  {
   "cell_type": "markdown",
   "id": "db16740d",
   "metadata": {},
   "source": [
    "## Making a Prediction"
   ]
  },
  {
   "cell_type": "code",
   "execution_count": 93,
   "id": "f7900e6d",
   "metadata": {},
   "outputs": [
    {
     "name": "stderr",
     "output_type": "stream",
     "text": [
      "Downloading...\n",
      "From (uriginal): https://drive.google.com/uc?id=1vWscXs4Vt0a_1IH1-ct2TCgXAZT-N3_Y\n",
      "From (redirected): https://drive.google.com/uc?id=1vWscXs4Vt0a_1IH1-ct2TCgXAZT-N3_Y&confirm=t&uuid=3d6abe6a-a49c-4df3-be9c-23644349ed02\n",
      "To: C:\\Users\\rajat\\OneDrive\\Desktop\\Tensorflow\\Lip Reading\\checkpoints.zip\n",
      "100%|█████████████████████████████████████████████████████████████████████████████| 94.5M/94.5M [00:08<00:00, 11.6MB/s]\n"
     ]
    },
    {
     "data": {
      "text/plain": [
       "['models\\\\checkpoint.index',\n",
       " 'models\\\\__MACOSX/._checkpoint.index',\n",
       " 'models\\\\checkpoint.data-00000-of-00001',\n",
       " 'models\\\\__MACOSX/._checkpoint.data-00000-of-00001',\n",
       " 'models\\\\checkpoint',\n",
       " 'models\\\\__MACOSX/._checkpoint']"
      ]
     },
     "execution_count": 93,
     "metadata": {},
     "output_type": "execute_result"
    }
   ],
   "source": [
    "# url = 'https://drive.google.com/uc?id=1vWscXs4Vt0a_1IH1-ct2TCgXAZT-N3_Y'\n",
    "# output = 'checkpoints.zip'\n",
    "# gdown.download(url, output, quiet=False)\n",
    "# gdown.extractall('checkpoints.zip', 'models')"
   ]
  },
  {
   "cell_type": "code",
   "execution_count": 49,
   "id": "46648e43",
   "metadata": {},
   "outputs": [
    {
     "data": {
      "text/plain": [
       "<tensorflow.python.checkpoint.checkpoint.CheckpointLoadStatus at 0x16c19f595e0>"
      ]
     },
     "execution_count": 49,
     "metadata": {},
     "output_type": "execute_result"
    }
   ],
   "source": [
    "model.load_weights('models/checkpoint')"
   ]
  },
  {
   "cell_type": "code",
   "execution_count": 50,
   "id": "8814061b",
   "metadata": {},
   "outputs": [
    {
     "data": {
      "text/plain": [
       "<TakeDataset element_spec=(TensorSpec(shape=(None, 75, None, None, None), dtype=tf.float32, name=None), TensorSpec(shape=(None, 40), dtype=tf.int64, name=None))>"
      ]
     },
     "execution_count": 50,
     "metadata": {},
     "output_type": "execute_result"
    }
   ],
   "source": [
    "test"
   ]
  },
  {
   "cell_type": "code",
   "execution_count": 51,
   "id": "b48ad84c",
   "metadata": {},
   "outputs": [
    {
     "data": {
      "text/plain": [
       "(array([[[[[1.3907958 ],\n",
       "           [1.3907958 ],\n",
       "           [1.3907958 ],\n",
       "           ...,\n",
       "           [0.07726643],\n",
       "           [0.07726643],\n",
       "           [0.07726643]],\n",
       " \n",
       "          [[1.3907958 ],\n",
       "           [1.3907958 ],\n",
       "           [1.3907958 ],\n",
       "           ...,\n",
       "           [0.07726643],\n",
       "           [0.07726643],\n",
       "           [0.07726643]],\n",
       " \n",
       "          [[1.2362629 ],\n",
       "           [1.2362629 ],\n",
       "           [1.2362629 ],\n",
       "           ...,\n",
       "           [0.15453286],\n",
       "           [0.11589965],\n",
       "           [0.11589965]],\n",
       " \n",
       "          ...,\n",
       " \n",
       "          [[0.9271972 ],\n",
       "           [0.9271972 ],\n",
       "           [0.888564  ],\n",
       "           ...,\n",
       "           [9.696938  ],\n",
       "           [9.735571  ],\n",
       "           [9.735571  ]],\n",
       " \n",
       "          [[0.9271972 ],\n",
       "           [0.9271972 ],\n",
       "           [0.888564  ],\n",
       "           ...,\n",
       "           [9.619671  ],\n",
       "           [9.735571  ],\n",
       "           [9.696938  ]],\n",
       " \n",
       "          [[0.9271972 ],\n",
       "           [0.9271972 ],\n",
       "           [0.888564  ],\n",
       "           ...,\n",
       "           [9.619671  ],\n",
       "           [9.696938  ],\n",
       "           [9.581038  ]]],\n",
       " \n",
       " \n",
       "         [[[1.3135294 ],\n",
       "           [1.3135294 ],\n",
       "           [1.3135294 ],\n",
       "           ...,\n",
       "           [0.15453286],\n",
       "           [0.15453286],\n",
       "           [0.07726643]],\n",
       " \n",
       "          [[1.3135294 ],\n",
       "           [1.3135294 ],\n",
       "           [1.3135294 ],\n",
       "           ...,\n",
       "           [0.07726643],\n",
       "           [0.07726643],\n",
       "           [0.07726643]],\n",
       " \n",
       "          [[1.2748961 ],\n",
       "           [1.2362629 ],\n",
       "           [1.2362629 ],\n",
       "           ...,\n",
       "           [0.07726643],\n",
       "           [0.07726643],\n",
       "           [0.03863322]],\n",
       " \n",
       "          ...,\n",
       " \n",
       "          [[0.96583045],\n",
       "           [0.96583045],\n",
       "           [0.9271972 ],\n",
       "           ...,\n",
       "           [9.735571  ],\n",
       "           [9.812838  ],\n",
       "           [9.658304  ]],\n",
       " \n",
       "          [[0.9271972 ],\n",
       "           [0.9271972 ],\n",
       "           [0.888564  ],\n",
       "           ...,\n",
       "           [9.542405  ],\n",
       "           [9.812838  ],\n",
       "           [9.696938  ]],\n",
       " \n",
       "          [[0.9271972 ],\n",
       "           [0.9271972 ],\n",
       "           [0.888564  ],\n",
       "           ...,\n",
       "           [9.542405  ],\n",
       "           [9.735571  ],\n",
       "           [9.696938  ]]],\n",
       " \n",
       " \n",
       "         [[[1.3135294 ],\n",
       "           [1.3135294 ],\n",
       "           [1.3135294 ],\n",
       "           ...,\n",
       "           [0.15453286],\n",
       "           [0.15453286],\n",
       "           [0.07726643]],\n",
       " \n",
       "          [[1.3135294 ],\n",
       "           [1.3135294 ],\n",
       "           [1.3135294 ],\n",
       "           ...,\n",
       "           [0.07726643],\n",
       "           [0.07726643],\n",
       "           [0.07726643]],\n",
       " \n",
       "          [[1.2748961 ],\n",
       "           [1.2362629 ],\n",
       "           [1.2362629 ],\n",
       "           ...,\n",
       "           [0.07726643],\n",
       "           [0.07726643],\n",
       "           [0.03863322]],\n",
       " \n",
       "          ...,\n",
       " \n",
       "          [[0.96583045],\n",
       "           [0.9271972 ],\n",
       "           [0.9271972 ],\n",
       "           ...,\n",
       "           [9.658304  ],\n",
       "           [9.812838  ],\n",
       "           [9.658304  ]],\n",
       " \n",
       "          [[0.9271972 ],\n",
       "           [0.888564  ],\n",
       "           [0.888564  ],\n",
       "           ...,\n",
       "           [9.465138  ],\n",
       "           [9.812838  ],\n",
       "           [9.696938  ]],\n",
       " \n",
       "          [[0.9271972 ],\n",
       "           [0.888564  ],\n",
       "           [0.888564  ],\n",
       "           ...,\n",
       "           [9.465138  ],\n",
       "           [9.696938  ],\n",
       "           [9.696938  ]]],\n",
       " \n",
       " \n",
       "         ...,\n",
       " \n",
       " \n",
       "         [[[1.3135294 ],\n",
       "           [1.3135294 ],\n",
       "           [1.3907958 ],\n",
       "           ...,\n",
       "           [0.11589965],\n",
       "           [0.19316609],\n",
       "           [0.19316609]],\n",
       " \n",
       "          [[1.3135294 ],\n",
       "           [1.3135294 ],\n",
       "           [1.3907958 ],\n",
       "           ...,\n",
       "           [0.11589965],\n",
       "           [0.19316609],\n",
       "           [0.19316609]],\n",
       " \n",
       "          [[1.3135294 ],\n",
       "           [1.3135294 ],\n",
       "           [1.2748961 ],\n",
       "           ...,\n",
       "           [0.11589965],\n",
       "           [0.11589965],\n",
       "           [0.11589965]],\n",
       " \n",
       "          ...,\n",
       " \n",
       "          [[0.9271972 ],\n",
       "           [0.9271972 ],\n",
       "           [0.9271972 ],\n",
       "           ...,\n",
       "           [9.774204  ],\n",
       "           [9.774204  ],\n",
       "           [9.774204  ]],\n",
       " \n",
       "          [[0.9271972 ],\n",
       "           [0.9271972 ],\n",
       "           [0.9271972 ],\n",
       "           ...,\n",
       "           [9.658304  ],\n",
       "           [9.735571  ],\n",
       "           [9.774204  ]],\n",
       " \n",
       "          [[0.9271972 ],\n",
       "           [0.9271972 ],\n",
       "           [0.888564  ],\n",
       "           ...,\n",
       "           [9.658304  ],\n",
       "           [9.735571  ],\n",
       "           [9.735571  ]]],\n",
       " \n",
       " \n",
       "         [[[1.3521626 ],\n",
       "           [1.3521626 ],\n",
       "           [1.3135294 ],\n",
       "           ...,\n",
       "           [0.11589965],\n",
       "           [0.11589965],\n",
       "           [0.11589965]],\n",
       " \n",
       "          [[1.3521626 ],\n",
       "           [1.3521626 ],\n",
       "           [1.3135294 ],\n",
       "           ...,\n",
       "           [0.11589965],\n",
       "           [0.11589965],\n",
       "           [0.11589965]],\n",
       " \n",
       "          [[1.3135294 ],\n",
       "           [1.3135294 ],\n",
       "           [1.2748961 ],\n",
       "           ...,\n",
       "           [0.11589965],\n",
       "           [0.11589965],\n",
       "           [0.11589965]],\n",
       " \n",
       "          ...,\n",
       " \n",
       "          [[0.9271972 ],\n",
       "           [0.9271972 ],\n",
       "           [0.9271972 ],\n",
       "           ...,\n",
       "           [9.658304  ],\n",
       "           [9.658304  ],\n",
       "           [9.774204  ]],\n",
       " \n",
       "          [[0.9271972 ],\n",
       "           [0.9271972 ],\n",
       "           [0.9271972 ],\n",
       "           ...,\n",
       "           [9.581038  ],\n",
       "           [9.581038  ],\n",
       "           [9.735571  ]],\n",
       " \n",
       "          [[0.9271972 ],\n",
       "           [0.9271972 ],\n",
       "           [0.888564  ],\n",
       "           ...,\n",
       "           [9.581038  ],\n",
       "           [9.581038  ],\n",
       "           [9.696938  ]]],\n",
       " \n",
       " \n",
       "         [[[1.3521626 ],\n",
       "           [1.3521626 ],\n",
       "           [1.3135294 ],\n",
       "           ...,\n",
       "           [0.15453286],\n",
       "           [0.11589965],\n",
       "           [0.11589965]],\n",
       " \n",
       "          [[1.3521626 ],\n",
       "           [1.3521626 ],\n",
       "           [1.3135294 ],\n",
       "           ...,\n",
       "           [0.15453286],\n",
       "           [0.11589965],\n",
       "           [0.11589965]],\n",
       " \n",
       "          [[1.3135294 ],\n",
       "           [1.3135294 ],\n",
       "           [1.2748961 ],\n",
       "           ...,\n",
       "           [0.11589965],\n",
       "           [0.07726643],\n",
       "           [0.07726643]],\n",
       " \n",
       "          ...,\n",
       " \n",
       "          [[0.96583045],\n",
       "           [0.96583045],\n",
       "           [0.96583045],\n",
       "           ...,\n",
       "           [9.658304  ],\n",
       "           [9.658304  ],\n",
       "           [9.658304  ]],\n",
       " \n",
       "          [[0.96583045],\n",
       "           [0.96583045],\n",
       "           [0.96583045],\n",
       "           ...,\n",
       "           [9.581038  ],\n",
       "           [9.581038  ],\n",
       "           [9.696938  ]],\n",
       " \n",
       "          [[0.96583045],\n",
       "           [0.96583045],\n",
       "           [0.9271972 ],\n",
       "           ...,\n",
       "           [9.581038  ],\n",
       "           [9.619671  ],\n",
       "           [9.696938  ]]]],\n",
       " \n",
       " \n",
       " \n",
       "        [[[[1.3366272 ],\n",
       "           [1.4088774 ],\n",
       "           [0.9392516 ],\n",
       "           ...,\n",
       "           [0.43350074],\n",
       "           [0.43350074],\n",
       "           [0.43350074]],\n",
       " \n",
       "          [[1.3005022 ],\n",
       "           [1.3366272 ],\n",
       "           [1.1198769 ],\n",
       "           ...,\n",
       "           [0.43350074],\n",
       "           [0.43350074],\n",
       "           [0.43350074]],\n",
       " \n",
       "          [[1.3366272 ],\n",
       "           [1.4088774 ],\n",
       "           [1.3366272 ],\n",
       "           ...,\n",
       "           [0.39737567],\n",
       "           [0.39737567],\n",
       "           [0.39737567]],\n",
       " \n",
       "          ...,\n",
       " \n",
       "          [[1.0837518 ],\n",
       "           [1.0837518 ],\n",
       "           [1.0837518 ],\n",
       "           ...,\n",
       "           [0.1806253 ],\n",
       "           [0.1806253 ],\n",
       "           [0.1806253 ]],\n",
       " \n",
       "          [[1.0837518 ],\n",
       "           [1.0837518 ],\n",
       "           [1.0837518 ],\n",
       "           ...,\n",
       "           [0.1806253 ],\n",
       "           [0.1806253 ],\n",
       "           [0.1806253 ]],\n",
       " \n",
       "          [[1.0837518 ],\n",
       "           [1.0837518 ],\n",
       "           [1.0837518 ],\n",
       "           ...,\n",
       "           [0.1806253 ],\n",
       "           [0.1806253 ],\n",
       "           [0.14450024]]],\n",
       " \n",
       " \n",
       "         [[[1.4088774 ],\n",
       "           [1.4450024 ],\n",
       "           [0.97537667],\n",
       "           ...,\n",
       "           [0.43350074],\n",
       "           [0.39737567],\n",
       "           [0.39737567]],\n",
       " \n",
       "          [[1.4088774 ],\n",
       "           [1.3005022 ],\n",
       "           [1.0476267 ],\n",
       "           ...,\n",
       "           [0.43350074],\n",
       "           [0.39737567],\n",
       "           [0.39737567]],\n",
       " \n",
       "          [[1.5533776 ],\n",
       "           [1.4450024 ],\n",
       "           [1.3727523 ],\n",
       "           ...,\n",
       "           [0.39737567],\n",
       "           [0.39737567],\n",
       "           [0.39737567]],\n",
       " \n",
       "          ...,\n",
       " \n",
       "          [[1.0837518 ],\n",
       "           [1.0837518 ],\n",
       "           [1.0837518 ],\n",
       "           ...,\n",
       "           [0.14450024],\n",
       "           [0.14450024],\n",
       "           [0.14450024]],\n",
       " \n",
       "          [[1.0476267 ],\n",
       "           [1.0476267 ],\n",
       "           [1.0476267 ],\n",
       "           ...,\n",
       "           [0.14450024],\n",
       "           [0.14450024],\n",
       "           [0.10837518]],\n",
       " \n",
       "          [[1.0476267 ],\n",
       "           [1.0476267 ],\n",
       "           [1.0476267 ],\n",
       "           ...,\n",
       "           [0.14450024],\n",
       "           [0.10837518],\n",
       "           [0.10837518]]],\n",
       " \n",
       " \n",
       "         [[[1.4450024 ],\n",
       "           [1.3727523 ],\n",
       "           [0.9392516 ],\n",
       "           ...,\n",
       "           [0.43350074],\n",
       "           [0.3612506 ],\n",
       "           [0.3612506 ]],\n",
       " \n",
       "          [[1.4450024 ],\n",
       "           [1.3005022 ],\n",
       "           [0.97537667],\n",
       "           ...,\n",
       "           [0.43350074],\n",
       "           [0.3612506 ],\n",
       "           [0.3612506 ]],\n",
       " \n",
       "          [[1.4811275 ],\n",
       "           [1.4811275 ],\n",
       "           [1.3366272 ],\n",
       "           ...,\n",
       "           [0.39737567],\n",
       "           [0.39737567],\n",
       "           [0.39737567]],\n",
       " \n",
       "          ...,\n",
       " \n",
       "          [[1.1198769 ],\n",
       "           [1.1198769 ],\n",
       "           [1.0837518 ],\n",
       "           ...,\n",
       "           [0.1806253 ],\n",
       "           [0.1806253 ],\n",
       "           [0.14450024]],\n",
       " \n",
       "          [[1.0837518 ],\n",
       "           [1.0837518 ],\n",
       "           [1.0476267 ],\n",
       "           ...,\n",
       "           [0.14450024],\n",
       "           [0.10837518],\n",
       "           [0.10837518]],\n",
       " \n",
       "          [[1.0837518 ],\n",
       "           [1.0837518 ],\n",
       "           [1.0476267 ],\n",
       "           ...,\n",
       "           [0.10837518],\n",
       "           [0.10837518],\n",
       "           [0.10837518]]],\n",
       " \n",
       " \n",
       "         ...,\n",
       " \n",
       " \n",
       "         [[[1.4450024 ],\n",
       "           [1.4811275 ],\n",
       "           [1.0837518 ],\n",
       "           ...,\n",
       "           [0.39737567],\n",
       "           [0.3612506 ],\n",
       "           [0.3612506 ]],\n",
       " \n",
       "          [[1.5172526 ],\n",
       "           [1.4450024 ],\n",
       "           [0.79475135],\n",
       "           ...,\n",
       "           [0.39737567],\n",
       "           [0.3612506 ],\n",
       "           [0.3612506 ]],\n",
       " \n",
       "          [[1.4450024 ],\n",
       "           [1.4450024 ],\n",
       "           [1.3005022 ],\n",
       "           ...,\n",
       "           [0.43350074],\n",
       "           [0.43350074],\n",
       "           [0.43350074]],\n",
       " \n",
       "          ...,\n",
       " \n",
       "          [[1.0837518 ],\n",
       "           [1.0837518 ],\n",
       "           [1.0837518 ],\n",
       "           ...,\n",
       "           [0.21675037],\n",
       "           [0.1806253 ],\n",
       "           [0.14450024]],\n",
       " \n",
       "          [[1.0837518 ],\n",
       "           [1.0837518 ],\n",
       "           [1.0837518 ],\n",
       "           ...,\n",
       "           [0.1806253 ],\n",
       "           [0.1806253 ],\n",
       "           [0.14450024]],\n",
       " \n",
       "          [[1.0476267 ],\n",
       "           [1.0476267 ],\n",
       "           [1.0476267 ],\n",
       "           ...,\n",
       "           [0.14450024],\n",
       "           [0.14450024],\n",
       "           [0.10837518]]],\n",
       " \n",
       " \n",
       "         [[[1.4088774 ],\n",
       "           [1.4088774 ],\n",
       "           [1.0837518 ],\n",
       "           ...,\n",
       "           [0.43350074],\n",
       "           [0.39737567],\n",
       "           [0.39737567]],\n",
       " \n",
       "          [[1.4450024 ],\n",
       "           [1.3366272 ],\n",
       "           [0.90312654],\n",
       "           ...,\n",
       "           [0.43350074],\n",
       "           [0.39737567],\n",
       "           [0.39737567]],\n",
       " \n",
       "          [[1.5172526 ],\n",
       "           [1.3727523 ],\n",
       "           [1.1560019 ],\n",
       "           ...,\n",
       "           [0.43350074],\n",
       "           [0.43350074],\n",
       "           [0.43350074]],\n",
       " \n",
       "          ...,\n",
       " \n",
       "          [[1.1198769 ],\n",
       "           [1.1198769 ],\n",
       "           [1.0837518 ],\n",
       "           ...,\n",
       "           [0.1806253 ],\n",
       "           [0.14450024],\n",
       "           [0.10837518]],\n",
       " \n",
       "          [[1.1198769 ],\n",
       "           [1.1198769 ],\n",
       "           [1.0837518 ],\n",
       "           ...,\n",
       "           [0.14450024],\n",
       "           [0.14450024],\n",
       "           [0.10837518]],\n",
       " \n",
       "          [[1.0837518 ],\n",
       "           [1.0837518 ],\n",
       "           [1.0476267 ],\n",
       "           ...,\n",
       "           [0.10837518],\n",
       "           [0.10837518],\n",
       "           [0.07225012]]],\n",
       " \n",
       " \n",
       "         [[[1.4450024 ],\n",
       "           [1.4811275 ],\n",
       "           [1.1198769 ],\n",
       "           ...,\n",
       "           [0.39737567],\n",
       "           [0.3612506 ],\n",
       "           [0.3612506 ]],\n",
       " \n",
       "          [[1.4811275 ],\n",
       "           [1.3727523 ],\n",
       "           [1.0476267 ],\n",
       "           ...,\n",
       "           [0.39737567],\n",
       "           [0.3612506 ],\n",
       "           [0.3612506 ]],\n",
       " \n",
       "          [[1.4811275 ],\n",
       "           [1.3366272 ],\n",
       "           [1.1560019 ],\n",
       "           ...,\n",
       "           [0.39737567],\n",
       "           [0.39737567],\n",
       "           [0.39737567]],\n",
       " \n",
       "          ...,\n",
       " \n",
       "          [[1.1198769 ],\n",
       "           [1.1198769 ],\n",
       "           [1.0837518 ],\n",
       "           ...,\n",
       "           [0.21675037],\n",
       "           [0.1806253 ],\n",
       "           [0.1806253 ]],\n",
       " \n",
       "          [[1.1198769 ],\n",
       "           [1.1198769 ],\n",
       "           [1.0837518 ],\n",
       "           ...,\n",
       "           [0.1806253 ],\n",
       "           [0.1806253 ],\n",
       "           [0.14450024]],\n",
       " \n",
       "          [[1.0837518 ],\n",
       "           [1.0837518 ],\n",
       "           [1.0476267 ],\n",
       "           ...,\n",
       "           [0.14450024],\n",
       "           [0.14450024],\n",
       "           [0.10837518]]]]], dtype=float32),\n",
       " array([[12,  1, 25, 39, 23,  8,  9, 20,  5, 39, 23,  9, 20,  8, 39,  6,\n",
       "         39, 14,  9, 14,  5, 39,  1,  7,  1,  9, 14,  0,  0,  0,  0,  0,\n",
       "          0,  0,  0,  0,  0,  0,  0,  0],\n",
       "        [19,  5, 20, 39,  2, 12, 21,  5, 39,  1, 20, 39, 20, 39,  5,  9,\n",
       "          7,  8, 20, 39, 16, 12,  5,  1, 19,  5,  0,  0,  0,  0,  0,  0,\n",
       "          0,  0,  0,  0,  0,  0,  0,  0]], dtype=int64))"
      ]
     },
     "execution_count": 51,
     "metadata": {},
     "output_type": "execute_result"
    }
   ],
   "source": [
    "test_1"
   ]
  },
  {
   "cell_type": "code",
   "execution_count": 70,
   "id": "097f4cbf",
   "metadata": {},
   "outputs": [],
   "source": [
    "test_1 = test_data.next()"
   ]
  },
  {
   "cell_type": "code",
   "execution_count": 71,
   "id": "cdcd734c",
   "metadata": {},
   "outputs": [
    {
     "name": "stdout",
     "output_type": "stream",
     "text": [
      "1/1 [==============================] - 0s 435ms/step\n"
     ]
    }
   ],
   "source": [
    "yhat = model.predict(test_1[0])"
   ]
  },
  {
   "cell_type": "code",
   "execution_count": 72,
   "id": "221cc353",
   "metadata": {},
   "outputs": [
    {
     "name": "stdout",
     "output_type": "stream",
     "text": [
      "~~~~~~~~~~~~~~~~~~~~~~~~~~~~~~~~~~~~~~~~~~~~~~~~~~~~~~~~~~~~~~~~~~~~~~~~~~~~~~~~~~~~~~~~~~~~~~~~~~~~ REAL TEXT\n"
     ]
    },
    {
     "data": {
      "text/plain": [
       "[<tf.Tensor: shape=(), dtype=string, numpy=b'bin green with o four please'>,\n",
       " <tf.Tensor: shape=(), dtype=string, numpy=b'place red in p one soon'>]"
      ]
     },
     "execution_count": 72,
     "metadata": {},
     "output_type": "execute_result"
    }
   ],
   "source": [
    "print('~'*100, 'REAL TEXT')\n",
    "[tf.strings.reduce_join([num_to_char(word) for word in sentence]) for sentence in test_1[1]]"
   ]
  },
  {
   "cell_type": "code",
   "execution_count": 73,
   "id": "d98e6208",
   "metadata": {},
   "outputs": [],
   "source": [
    "decoded = tf.keras.backend.ctc_decode(yhat, input_length=[75, 75], greedy=True)[0][0].numpy()"
   ]
  },
  {
   "cell_type": "code",
   "execution_count": 75,
   "id": "69bc32ea",
   "metadata": {},
   "outputs": [
    {
     "data": {
      "text/plain": [
       "array([[ 2,  9, 14, 39,  7, 18,  5,  5, 14, 39, 23,  9, 20,  8, 39, 15,\n",
       "        39,  6, 15, 21, 18, 39, 16, 12,  5,  1, 19,  5,  0,  0,  0,  0,\n",
       "         0,  0,  0,  0,  0,  0,  0,  0, -1, -1, -1, -1, -1, -1, -1, -1,\n",
       "        -1, -1, -1, -1, -1, -1, -1, -1, -1, -1, -1, -1, -1, -1, -1, -1,\n",
       "        -1, -1, -1, -1, -1, -1, -1, -1, -1, -1, -1],\n",
       "       [16, 12,  1,  3,  5, 39, 18,  5,  4, 39,  9, 14, 39, 16, 39, 15,\n",
       "        14,  5, 39, 19, 15, 15, 14,  0,  0,  0,  0,  0,  0,  0,  0,  0,\n",
       "         0,  0,  0,  0,  0,  0,  0,  0, -1, -1, -1, -1, -1, -1, -1, -1,\n",
       "        -1, -1, -1, -1, -1, -1, -1, -1, -1, -1, -1, -1, -1, -1, -1, -1,\n",
       "        -1, -1, -1, -1, -1, -1, -1, -1, -1, -1, -1]], dtype=int64)"
      ]
     },
     "execution_count": 75,
     "metadata": {},
     "output_type": "execute_result"
    }
   ],
   "source": [
    "decoded"
   ]
  },
  {
   "cell_type": "code",
   "execution_count": 74,
   "id": "acced8e9",
   "metadata": {},
   "outputs": [
    {
     "name": "stdout",
     "output_type": "stream",
     "text": [
      "~~~~~~~~~~~~~~~~~~~~~~~~~~~~~~~~~~~~~~~~~~~~~~~~~~~~~~~~~~~~~~~~~~~~~~~~~~~~~~~~~~~~~~~~~~~~~~~~~~~~ PREDICTIONS\n"
     ]
    },
    {
     "data": {
      "text/plain": [
       "[<tf.Tensor: shape=(), dtype=string, numpy=b'bin green with o four please'>,\n",
       " <tf.Tensor: shape=(), dtype=string, numpy=b'place red in p one soon'>]"
      ]
     },
     "execution_count": 74,
     "metadata": {},
     "output_type": "execute_result"
    }
   ],
   "source": [
    "print('~'*100, 'PREDICTIONS')\n",
    "[tf.strings.reduce_join([num_to_char(word) for word in sentence]) for sentence in decoded]"
   ]
  },
  {
   "cell_type": "markdown",
   "id": "947c40a4",
   "metadata": {},
   "source": [
    "## Test on Video"
   ]
  },
  {
   "cell_type": "code",
   "execution_count": 90,
   "id": "f15ab2be",
   "metadata": {},
   "outputs": [],
   "source": [
    "sample = load_data(tf.convert_to_tensor('.\\\\data\\\\s1\\\\bras9a.mpg'))"
   ]
  },
  {
   "cell_type": "code",
   "execution_count": 91,
   "id": "7ed9e9d9",
   "metadata": {},
   "outputs": [
    {
     "name": "stdout",
     "output_type": "stream",
     "text": [
      "~~~~~~~~~~~~~~~~~~~~~~~~~~~~~~~~~~~~~~~~~~~~~~~~~~~~~~~~~~~~~~~~~~~~~~~~~~~~~~~~~~~~~~~~~~~~~~~~~~~~ REAL TEXT\n"
     ]
    },
    {
     "data": {
      "text/plain": [
       "[<tf.Tensor: shape=(), dtype=string, numpy=b'bin red at s nine again'>]"
      ]
     },
     "execution_count": 91,
     "metadata": {},
     "output_type": "execute_result"
    }
   ],
   "source": [
    "print('~'*100, 'REAL TEXT')\n",
    "[tf.strings.reduce_join([num_to_char(word) for word in sentence]) for sentence in [sample[1]]]"
   ]
  },
  {
   "cell_type": "code",
   "execution_count": 92,
   "id": "820c31b3",
   "metadata": {},
   "outputs": [
    {
     "name": "stdout",
     "output_type": "stream",
     "text": [
      "1/1 [==============================] - 0s 335ms/step\n"
     ]
    }
   ],
   "source": [
    "yhat = model.predict(tf.expand_dims(sample[0], axis=0))"
   ]
  },
  {
   "cell_type": "code",
   "execution_count": 93,
   "id": "6d3dfaf8",
   "metadata": {},
   "outputs": [],
   "source": [
    "decoded = tf.keras.backend.ctc_decode(yhat, input_length=[75], greedy=True)[0][0].numpy()"
   ]
  },
  {
   "cell_type": "code",
   "execution_count": 94,
   "id": "143ca2ef",
   "metadata": {},
   "outputs": [
    {
     "name": "stdout",
     "output_type": "stream",
     "text": [
      "~~~~~~~~~~~~~~~~~~~~~~~~~~~~~~~~~~~~~~~~~~~~~~~~~~~~~~~~~~~~~~~~~~~~~~~~~~~~~~~~~~~~~~~~~~~~~~~~~~~~ PREDICTIONS\n"
     ]
    },
    {
     "data": {
      "text/plain": [
       "[<tf.Tensor: shape=(), dtype=string, numpy=b'bin red at s nine again'>]"
      ]
     },
     "execution_count": 94,
     "metadata": {},
     "output_type": "execute_result"
    }
   ],
   "source": [
    "print('~'*100, 'PREDICTIONS')\n",
    "[tf.strings.reduce_join([num_to_char(word) for word in sentence]) for sentence in decoded]"
   ]
  },
  {
   "cell_type": "code",
   "execution_count": null,
   "id": "1095e248",
   "metadata": {},
   "outputs": [],
   "source": []
  }
 ],
 "metadata": {
  "kernelspec": {
   "display_name": "Python 3 (ipykernel)",
   "language": "python",
   "name": "python3"
  },
  "language_info": {
   "codemirror_mode": {
    "name": "ipython",
    "version": 3
   },
   "file_extension": ".py",
   "mimetype": "text/x-python",
   "name": "python",
   "nbconvert_exporter": "python",
   "pygments_lexer": "ipython3",
   "version": "3.9.13"
  }
 },
 "nbformat": 4,
 "nbformat_minor": 5
}
